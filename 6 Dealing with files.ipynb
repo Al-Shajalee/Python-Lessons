{
 "cells": [
  {
   "cell_type": "markdown",
   "metadata": {},
   "source": [
    "<font size = 6 > Data I/O (working with text files) </font>\n",
    "<p></p>  \n",
    "<font size = 3>  \n",
    "<p></p>  \n",
    "<p></p>   \n",
    "- To open a file, the <b> open(path_to_file, mode)</b> function can be used. Alternatively, can use <b> with open(path_to_file, mode) as variable_name:</b>.\n",
    "<p></p>  \n",
    "<p></p>   \n",
    "- After opening a file, its contents can be read using either <b>read(), readline() or readlines() function</b>. \n",
    "\n",
    "What's the difference? \n",
    "    \n",
    " - read() is used to read the entire content of the file as a string. \n",
    "\n",
    " - readline() is used to read a single line (usually the first line) from the file while \n",
    "\n",
    " - readlines is used to read the contents of the file line by line.\n",
    "<p></p>  \n",
    "<p></p>\n",
    " -The function <b> write()</b> can be used to write data to a file. However, the file must first be opened as in <b> write </b>mode. \n",
    "</font>"
   ]
  },
  {
   "cell_type": "code",
   "execution_count": null,
   "metadata": {},
   "outputs": [],
   "source": [
    "# -- File Handling --\n",
    "# -------------------\n",
    "# \"r\" Read    [Default Value] Open File For Read and Give Error If File is Not Exists\n",
    "# \"w\" Write   Open File For Writing, Create File If Not Exists\n",
    "# \"a\" Append  Open File For Appending Values, Create File If Not Exists\n",
    "# \"x\" Create  Create File, Give Error If File Exists"
   ]
  },
  {
   "cell_type": "markdown",
   "metadata": {},
   "source": [
    "# Read"
   ]
  },
  {
   "cell_type": "code",
   "execution_count": 58,
   "metadata": {},
   "outputs": [
    {
     "name": "stdout",
     "output_type": "stream",
     "text": [
      "<_io.TextIOWrapper name='Mary_Lamb.txt' mode='r' encoding='cp1252'>\n",
      "\n",
      "\n",
      "Mary_Lamb.txt\n",
      "r\n",
      "cp1252\n"
     ]
    }
   ],
   "source": [
    "# Let's open the file name Mary_Lamb.txt as file\n",
    "file = open('Mary_Lamb.txt', mode = 'r')\n",
    "#file\n",
    "print(file)  # File Data Object\n",
    "\n",
    "print(\"\\n\")\n",
    "\n",
    "print(file.name)\n",
    "print(file.mode)\n",
    "print(file.encoding)"
   ]
  },
  {
   "cell_type": "markdown",
   "metadata": {},
   "source": [
    "## Read all file"
   ]
  },
  {
   "cell_type": "code",
   "execution_count": 60,
   "metadata": {},
   "outputs": [
    {
     "data": {
      "text/plain": [
       "'Mary had a little lamb,\\nIt\\'s fleece was white as snow;\\nAnd everywhere that Mary went\\nThe lamb was sure to go.\\n\\nHe followed her to school one day\\nWhich was against the rule;\\nIt made the children laugh and play,\\nTo see a lamb at school.\\n\\nAnd so the teacher turned him out,\\nBut still he lingered near;\\nAnd waited patiently about\\nTill Mary did appear\\n\\n\"What makes the lamb love Mary so?\"\\nThe eager chldren cry;\\n\"Why, Mary loves the lamb, you know,\"\\nThe teacher did reply.'"
      ]
     },
     "execution_count": 60,
     "metadata": {},
     "output_type": "execute_result"
    }
   ],
   "source": [
    "#Let's read the entire contents as a string\n",
    "file = open('Mary_Lamb.txt', 'r')\n",
    "contents = file.read()\n",
    "contents"
   ]
  },
  {
   "cell_type": "markdown",
   "metadata": {},
   "source": [
    "## Read line "
   ]
  },
  {
   "cell_type": "code",
   "execution_count": 78,
   "metadata": {},
   "outputs": [
    {
     "name": "stdout",
     "output_type": "stream",
     "text": [
      "Mary had a little lamb,\n",
      "\n",
      "It's fleece was white as snow;\n",
      "\n",
      "And everyw\n",
      "here that Mary went\n",
      "\n"
     ]
    }
   ],
   "source": [
    "#Let's read the first line\n",
    "file = open('Mary_Lamb.txt', 'r')\n",
    "Line1 = file.readline()\n",
    "Line2 = file.readline()\n",
    "Line3 = file.readline(10)\n",
    "Line4 = file.readline() \n",
    "\n",
    "print(Line1)\n",
    "print(Line2)\n",
    "print(Line3)\n",
    "print(Line4)"
   ]
  },
  {
   "cell_type": "markdown",
   "metadata": {},
   "source": [
    "## Read lines"
   ]
  },
  {
   "cell_type": "code",
   "execution_count": 100,
   "metadata": {},
   "outputs": [
    {
     "data": {
      "text/plain": [
       "['Mary had a little lamb,\\n',\n",
       " \"It's fleece was white as snow;\\n\",\n",
       " 'And everywhere that Mary went\\n',\n",
       " 'The lamb was sure to go.\\n',\n",
       " '\\n',\n",
       " 'He followed her to school one day\\n',\n",
       " 'Which was against the rule;\\n',\n",
       " 'It made the children laugh and play,\\n',\n",
       " 'To see a lamb at school.\\n',\n",
       " '\\n',\n",
       " 'And so the teacher turned him out,\\n',\n",
       " 'But still he lingered near;\\n',\n",
       " 'And waited patiently about\\n',\n",
       " 'Till Mary did appear\\n',\n",
       " '\\n',\n",
       " '\"What makes the lamb love Mary so?\"\\n',\n",
       " 'The eager chldren cry;\\n',\n",
       " '\"Why, Mary loves the lamb, you know,\"\\n',\n",
       " 'The teacher did reply.']"
      ]
     },
     "execution_count": 100,
     "metadata": {},
     "output_type": "execute_result"
    }
   ],
   "source": [
    "# Let's read all contents line by line \n",
    "file = open('Mary_Lamb.txt', 'r')\n",
    "lines_list = file.readlines()\n",
    "lines_list"
   ]
  },
  {
   "cell_type": "code",
   "execution_count": 101,
   "metadata": {},
   "outputs": [
    {
     "name": "stdout",
     "output_type": "stream",
     "text": [
      "Mary had a little lamb,\n",
      "\n",
      "It's fleece was white as snow;\n",
      "\n",
      "And everywhere that Mary went\n",
      "\n",
      "The lamb was sure to go.\n",
      "\n",
      "\n",
      "\n",
      "He followed her to school one day\n",
      "\n"
     ]
    }
   ],
   "source": [
    "file = open('Mary_Lamb.txt', 'r')\n",
    "\n",
    "for line in file:\n",
    "    print (line)\n",
    "    if line.startswith('He'):\n",
    "        break"
   ]
  },
  {
   "cell_type": "markdown",
   "metadata": {},
   "source": [
    "# Write\n",
    "write creats file in not exists. "
   ]
  },
  {
   "cell_type": "code",
   "execution_count": 102,
   "metadata": {},
   "outputs": [],
   "source": [
    "# Example 1\n",
    "# Now, let's write some data to a new file\n",
    "\n",
    "file= open('Faaiz.txt','w')\n",
    "file.write('My name is Faaiz\\n') \n",
    "file.write('I am doing my PhD in petroelum engineering at Curtin University\\n')\n",
    "file.close()"
   ]
  },
  {
   "cell_type": "code",
   "execution_count": 103,
   "metadata": {},
   "outputs": [],
   "source": [
    "# Now, let's write some data to an existed file\n",
    "# This will delet the contnet of the existed file and add new content\n",
    "\n",
    "file= open('Faaiz.txt','w')\n",
    "file.write('Helloooooo\\n') \n",
    "file.close()"
   ]
  },
  {
   "cell_type": "code",
   "execution_count": 15,
   "metadata": {},
   "outputs": [],
   "source": [
    "# Example 2\n",
    "\n",
    "name = 'Joe'\n",
    "age = 45\n",
    "status = 'married'\n",
    "num_kids = 3\n",
    "\n",
    "# Let's write these to a file named Joe.txt\n",
    "\n",
    "with open(name+'.txt', mode = 'w') as file:\n",
    "    file.write(f'My name is {name}\\n')\n",
    "    file.write(f'I am {age} years old\\n')\n",
    "    file.write(f'I am happily {status} with {num_kids} lovely kids')\n",
    "    file.close()"
   ]
  },
  {
   "cell_type": "code",
   "execution_count": 16,
   "metadata": {},
   "outputs": [
    {
     "data": {
      "text/plain": [
       "'My name is Joe\\nI am 45 years old\\nI am happily married with3 lovely kids'"
      ]
     },
     "execution_count": 16,
     "metadata": {},
     "output_type": "execute_result"
    }
   ],
   "source": [
    "file = open('Joe.txt', mode = 'r')\n",
    "contents = file.read()\n",
    "contents"
   ]
  },
  {
   "cell_type": "code",
   "execution_count": 104,
   "metadata": {},
   "outputs": [],
   "source": []
  },
  {
   "cell_type": "markdown",
   "metadata": {},
   "source": [
    "## write line"
   ]
  },
  {
   "cell_type": "code",
   "execution_count": null,
   "metadata": {},
   "outputs": [],
   "source": [
    "# Example 1\n",
    "file= open('Soccer.txt','w')\n",
    "file.write('Helloooooo\\n'*5)  \n",
    "file.write('sam\\n'*5)\n",
    "file.write('Jam\\n'*5) \n",
    "file.write('Nam\\n'*5) \n",
    "file.write('Fam\\n'*5) \n",
    "file.close()"
   ]
  },
  {
   "cell_type": "code",
   "execution_count": 112,
   "metadata": {},
   "outputs": [],
   "source": [
    "# Example 1\n",
    "myList= [\"sam\\n\", \"Jam\\n\", \"Nam\\n\", \"Fam\\n\"]\n",
    "myFile = open(\"Moon.txt\", \"w\")\n",
    "myFile.write('Helloooooo\\n'*5)\n",
    "myFile.writelines(myList)"
   ]
  },
  {
   "cell_type": "code",
   "execution_count": null,
   "metadata": {},
   "outputs": [],
   "source": []
  },
  {
   "cell_type": "markdown",
   "metadata": {},
   "source": [
    "# Append\n",
    "Append new content to an existed file"
   ]
  },
  {
   "cell_type": "code",
   "execution_count": 122,
   "metadata": {},
   "outputs": [
    {
     "data": {
      "text/plain": [
       "45"
      ]
     },
     "execution_count": 122,
     "metadata": {},
     "output_type": "execute_result"
    }
   ],
   "source": [
    "# Example 1\n",
    "myFile = open(\"Moon.txt\", \"a\")\n",
    "myFile.write(\"\\n\\n\\n\")\n",
    "myFile.write(\"New line\\n\"*5)"
   ]
  },
  {
   "cell_type": "code",
   "execution_count": 126,
   "metadata": {},
   "outputs": [
    {
     "data": {
      "text/plain": [
       "['Hello']"
      ]
     },
     "execution_count": 126,
     "metadata": {},
     "output_type": "execute_result"
    }
   ],
   "source": [
    "myFile = open(\"Moon.txt\", \"r\")\n",
    "lines_list = myFile.readlines()\n",
    "lines_list"
   ]
  },
  {
   "cell_type": "markdown",
   "metadata": {},
   "source": [
    "# Remove\n",
    "Remove a file"
   ]
  },
  {
   "cell_type": "code",
   "execution_count": 137,
   "metadata": {},
   "outputs": [],
   "source": [
    "import os\n",
    "# os.remove(\"Faaiz.txt\")\n",
    "os.remove(\"Sam.txt\")\n",
    "os.remove(\"Soccer.txt\")"
   ]
  },
  {
   "cell_type": "markdown",
   "metadata": {},
   "source": [
    "# Truncate\n",
    "cut the content and leave only number of characters"
   ]
  },
  {
   "cell_type": "code",
   "execution_count": 130,
   "metadata": {},
   "outputs": [
    {
     "data": {
      "text/plain": [
       "5"
      ]
     },
     "execution_count": 130,
     "metadata": {},
     "output_type": "execute_result"
    }
   ],
   "source": [
    "myFile = open(\"Moon.txt\", \"a\")\n",
    "myFile.truncate(5)"
   ]
  },
  {
   "cell_type": "markdown",
   "metadata": {},
   "source": [
    "# Tell\n",
    "Find the  cursor position "
   ]
  },
  {
   "cell_type": "code",
   "execution_count": 134,
   "metadata": {},
   "outputs": [
    {
     "name": "stdout",
     "output_type": "stream",
     "text": [
      "5\n"
     ]
    }
   ],
   "source": [
    "myFile = open(\"Moon.txt\", \"a\")\n",
    "print(myFile.tell())"
   ]
  },
  {
   "cell_type": "markdown",
   "metadata": {},
   "source": [
    "# Seek\n",
    "Take the cursor to certin position"
   ]
  },
  {
   "cell_type": "code",
   "execution_count": 132,
   "metadata": {},
   "outputs": [
    {
     "data": {
      "text/plain": [
       "'Mary had a little lamb,\\nIt\\'s fleece was white as snow;\\nAnd everywhere that Mary went\\nThe lamb was sure to go.\\n\\nHe followed her to school one day\\nWhich was against the rule;\\nIt made the children laugh and play,\\nTo see a lamb at school.\\n\\nAnd so the teacher turned him out,\\nBut still he lingered near;\\nAnd waited patiently about\\nTill Mary did appear\\n\\n\"What makes the lamb love Mary so?\"\\nThe eager chldren cry;\\n\"Why, Mary loves the lamb, you know,\"\\nThe teacher did reply.'"
      ]
     },
     "execution_count": 132,
     "metadata": {},
     "output_type": "execute_result"
    }
   ],
   "source": [
    "my_file = open('Mary_Lamb.txt', mode = 'r')\n",
    "my_file.read()"
   ]
  },
  {
   "cell_type": "code",
   "execution_count": 133,
   "metadata": {},
   "outputs": [
    {
     "data": {
      "text/plain": [
       "' little lamb,\\nIt\\'s fleece was white as snow;\\nAnd everywhere that Mary went\\nThe lamb was sure to go.\\n\\nHe followed her to school one day\\nWhich was against the rule;\\nIt made the children laugh and play,\\nTo see a lamb at school.\\n\\nAnd so the teacher turned him out,\\nBut still he lingered near;\\nAnd waited patiently about\\nTill Mary did appear\\n\\n\"What makes the lamb love Mary so?\"\\nThe eager chldren cry;\\n\"Why, Mary loves the lamb, you know,\"\\nThe teacher did reply.'"
      ]
     },
     "execution_count": 133,
     "metadata": {},
     "output_type": "execute_result"
    }
   ],
   "source": [
    "my_file.seek(10)\n",
    "my_file.read()"
   ]
  },
  {
   "cell_type": "code",
   "execution_count": null,
   "metadata": {},
   "outputs": [],
   "source": []
  },
  {
   "cell_type": "code",
   "execution_count": null,
   "metadata": {},
   "outputs": [],
   "source": []
  },
  {
   "cell_type": "markdown",
   "metadata": {},
   "source": [
    "# Exercise\n",
    "\n",
    "Write a python program to count the number of unique four-letter words that occur in the file named **Mary_Lamb.txt**.\n",
    "\n",
    "(Hint: This will test your understanding of how to read text files,  how to combine some string operations, with for loop, if else conditions, and possibly list operations)"
   ]
  },
  {
   "cell_type": "code",
   "execution_count": null,
   "metadata": {},
   "outputs": [],
   "source": [
    "file = open('Mary_Lamb.txt', mode = 'r')\n",
    "contents = file.read()\n",
    "contents"
   ]
  },
  {
   "cell_type": "code",
   "execution_count": null,
   "metadata": {},
   "outputs": [],
   "source": [
    "My_List= contents.split(' ')"
   ]
  },
  {
   "cell_type": "code",
   "execution_count": null,
   "metadata": {},
   "outputs": [],
   "source": [
    "My_List"
   ]
  },
  {
   "cell_type": "code",
   "execution_count": null,
   "metadata": {},
   "outputs": [],
   "source": [
    "len(My_List)"
   ]
  },
  {
   "cell_type": "code",
   "execution_count": null,
   "metadata": {},
   "outputs": [],
   "source": [
    "len(My_List[22])"
   ]
  },
  {
   "cell_type": "code",
   "execution_count": null,
   "metadata": {},
   "outputs": [],
   "source": [
    "four_letter_sum=0\n",
    "New_list=[]\n",
    "for name in My_List:\n",
    "    if len(name) ==4:\n",
    "        four_letter_sum=four_letter_sum+1\n",
    "        print (name)\n",
    "        New_list.append(name)\n",
    "        \n",
    "four_letter_sum  "
   ]
  },
  {
   "cell_type": "code",
   "execution_count": null,
   "metadata": {},
   "outputs": [],
   "source": [
    "New_list"
   ]
  },
  {
   "cell_type": "code",
   "execution_count": null,
   "metadata": {},
   "outputs": [],
   "source": [
    "set(New_list)"
   ]
  },
  {
   "cell_type": "code",
   "execution_count": null,
   "metadata": {},
   "outputs": [],
   "source": [
    "len(set(New_list))"
   ]
  },
  {
   "cell_type": "markdown",
   "metadata": {},
   "source": [
    "## Method 2 "
   ]
  },
  {
   "cell_type": "code",
   "execution_count": null,
   "metadata": {},
   "outputs": [],
   "source": [
    "My_List"
   ]
  },
  {
   "cell_type": "code",
   "execution_count": null,
   "metadata": {},
   "outputs": [],
   "source": [
    "New_list=[]\n",
    "New_list=[name for name in My_List if len(name) ==4 ]\n",
    "len(set(New_list))"
   ]
  },
  {
   "cell_type": "code",
   "execution_count": null,
   "metadata": {},
   "outputs": [],
   "source": [
    "len(set([name for name in My_List if len(name) ==4 ]))"
   ]
  },
  {
   "cell_type": "code",
   "execution_count": null,
   "metadata": {},
   "outputs": [],
   "source": [
    "len(set([name for name in contents.split(' ') if len(name) ==4 ]))"
   ]
  },
  {
   "cell_type": "code",
   "execution_count": null,
   "metadata": {},
   "outputs": [],
   "source": [
    "x=contents.split(' ')"
   ]
  },
  {
   "cell_type": "code",
   "execution_count": null,
   "metadata": {},
   "outputs": [],
   "source": [
    "#x.unique()"
   ]
  },
  {
   "cell_type": "code",
   "execution_count": null,
   "metadata": {},
   "outputs": [],
   "source": [
    "[name for name in contents.split(' ') if len(name) ==4 ]"
   ]
  },
  {
   "cell_type": "code",
   "execution_count": null,
   "metadata": {},
   "outputs": [],
   "source": []
  },
  {
   "cell_type": "code",
   "execution_count": null,
   "metadata": {},
   "outputs": [],
   "source": []
  },
  {
   "cell_type": "markdown",
   "metadata": {},
   "source": [
    "# File path"
   ]
  },
  {
   "cell_type": "code",
   "execution_count": 23,
   "metadata": {},
   "outputs": [
    {
     "data": {
      "text/plain": [
       "'C:\\\\Users\\\\17595153\\\\OneDrive - Curtin University of Technology Australia\\\\1 Python\\\\1 Python - Lessons'"
      ]
     },
     "execution_count": 23,
     "metadata": {},
     "output_type": "execute_result"
    }
   ],
   "source": [
    "import os\n",
    "os.getcwd() # cwd: Current Working Directory"
   ]
  },
  {
   "cell_type": "code",
   "execution_count": null,
   "metadata": {},
   "outputs": [],
   "source": [
    "# What if the file is not located in the CWD"
   ]
  },
  {
   "cell_type": "code",
   "execution_count": 30,
   "metadata": {},
   "outputs": [],
   "source": [
    "# file = open('python_test.txt', mode = 'r') # Error\n",
    "# file\n",
    "# So we need to write the absolut path:"
   ]
  },
  {
   "cell_type": "code",
   "execution_count": 29,
   "metadata": {},
   "outputs": [
    {
     "data": {
      "text/plain": [
       "<_io.TextIOWrapper name='C:\\\\Users\\\\17595153\\\\OneDrive - Curtin University of Technology Australia\\\\python_test.txt' mode='r' encoding='cp1252'>"
      ]
     },
     "execution_count": 29,
     "metadata": {},
     "output_type": "execute_result"
    }
   ],
   "source": [
    "file = open('C:\\\\Users\\\\17595153\\\\OneDrive - Curtin University of Technology Australia\\\\python_test.txt', mode = 'r') \n",
    "file"
   ]
  },
  {
   "cell_type": "code",
   "execution_count": null,
   "metadata": {},
   "outputs": [],
   "source": [
    "# path=C:\\Users\\17595153\\OneDrive - Curtin University of Technology Australia\\1 Python\\Test_Files\n",
    "\n",
    "# file= open('path'+'Faaiz.txt', mode = 'w')\n",
    "# file.write('My name is Faaiz\\n')"
   ]
  },
  {
   "cell_type": "markdown",
   "metadata": {},
   "source": [
    "# Analysing text file content "
   ]
  },
  {
   "cell_type": "code",
   "execution_count": 1,
   "metadata": {},
   "outputs": [
    {
     "data": {
      "text/plain": [
       "{'h': 1,\n",
       " 'e': 2,\n",
       " 'l': 2,\n",
       " 'o': 1,\n",
       " ' ': 7,\n",
       " 'm': 4,\n",
       " 'y': 3,\n",
       " 'n': 1,\n",
       " 'a': 3,\n",
       " 'i': 3,\n",
       " 's': 2,\n",
       " 'F': 1,\n",
       " 'z': 1}"
      ]
     },
     "execution_count": 1,
     "metadata": {},
     "output_type": "execute_result"
    }
   ],
   "source": [
    "# Example 1: To find frequency of “characters” in a sentence\n",
    "\n",
    "sentence=\"my my name is is is Faaiz\"\n",
    "characters={char:sentence.count(char) for char in sentence}\n",
    "characters"
   ]
  },
  {
   "cell_type": "code",
   "execution_count": 2,
   "metadata": {},
   "outputs": [
    {
     "data": {
      "text/plain": [
       "{'h': 1,\n",
       " 'o': 1,\n",
       " 'n': 1,\n",
       " 'F': 1,\n",
       " 'z': 1,\n",
       " 'e': 2,\n",
       " 'l': 2,\n",
       " 's': 2,\n",
       " 'y': 3,\n",
       " 'a': 3,\n",
       " 'i': 3,\n",
       " 'm': 4,\n",
       " ' ': 7}"
      ]
     },
     "execution_count": 2,
     "metadata": {},
     "output_type": "execute_result"
    }
   ],
   "source": [
    "# sorting \n",
    "dict(sorted(characters.items(), key=lambda item: item[1]))"
   ]
  },
  {
   "cell_type": "code",
   "execution_count": 3,
   "metadata": {},
   "outputs": [
    {
     "data": {
      "text/plain": [
       "{'hello': 1, 'my': 3, 'name': 1, 'is': 2, 'Faaiz': 1}"
      ]
     },
     "execution_count": 3,
     "metadata": {},
     "output_type": "execute_result"
    }
   ],
   "source": [
    "# Example 2: To find frequency of “words” in a sentence\n",
    "words={word:sentence.count(word) for word in sentence.split()}\n",
    "words"
   ]
  },
  {
   "cell_type": "code",
   "execution_count": 4,
   "metadata": {},
   "outputs": [
    {
     "data": {
      "text/plain": [
       "{'hello': 1, 'name': 1, 'Faaiz': 1, 'is': 2, 'my': 3}"
      ]
     },
     "execution_count": 4,
     "metadata": {},
     "output_type": "execute_result"
    }
   ],
   "source": [
    "# sorting \n",
    "dict(sorted(words.items(), key=lambda item: item[1]))"
   ]
  },
  {
   "cell_type": "code",
   "execution_count": 5,
   "metadata": {},
   "outputs": [
    {
     "data": {
      "text/plain": [
       "{'hello': 1, 'name': 1, 'Faaiz': 1, 'is': 2, 'my': 3}"
      ]
     },
     "execution_count": 5,
     "metadata": {},
     "output_type": "execute_result"
    }
   ],
   "source": [
    "# or \n",
    "{k:v for k,v in sorted(x.items(), key=lambda item: item[1])}"
   ]
  },
  {
   "cell_type": "markdown",
   "metadata": {},
   "source": [
    "## collections.Counter"
   ]
  },
  {
   "cell_type": "code",
   "execution_count": 8,
   "metadata": {},
   "outputs": [],
   "source": [
    "from collections import Counter\n"
   ]
  },
  {
   "cell_type": "code",
   "execution_count": 9,
   "metadata": {},
   "outputs": [
    {
     "data": {
      "text/plain": [
       "['my', 'my', 'name', 'is', 'is', 'is', 'Faaiz']"
      ]
     },
     "execution_count": 9,
     "metadata": {},
     "output_type": "execute_result"
    }
   ],
   "source": [
    "sentence_list=\"my my name is is is Faaiz\".split()\n",
    "sentence_list"
   ]
  },
  {
   "cell_type": "code",
   "execution_count": 10,
   "metadata": {},
   "outputs": [
    {
     "data": {
      "text/plain": [
       "Counter({'my': 2, 'name': 1, 'is': 3, 'Faaiz': 1})"
      ]
     },
     "execution_count": 10,
     "metadata": {},
     "output_type": "execute_result"
    }
   ],
   "source": [
    "count=Counter(sentence_list)\n",
    "count"
   ]
  },
  {
   "cell_type": "code",
   "execution_count": 11,
   "metadata": {},
   "outputs": [
    {
     "data": {
      "text/plain": [
       "2"
      ]
     },
     "execution_count": 11,
     "metadata": {},
     "output_type": "execute_result"
    }
   ],
   "source": [
    "count[\"my\"]"
   ]
  },
  {
   "cell_type": "markdown",
   "metadata": {},
   "source": [
    "### Most common value "
   ]
  },
  {
   "cell_type": "code",
   "execution_count": 12,
   "metadata": {},
   "outputs": [
    {
     "data": {
      "text/plain": [
       "[('is', 3), ('my', 2), ('name', 1), ('Faaiz', 1)]"
      ]
     },
     "execution_count": 12,
     "metadata": {},
     "output_type": "execute_result"
    }
   ],
   "source": [
    "count.most_common()"
   ]
  },
  {
   "cell_type": "code",
   "execution_count": 13,
   "metadata": {},
   "outputs": [
    {
     "data": {
      "text/plain": [
       "[('is', 3)]"
      ]
     },
     "execution_count": 13,
     "metadata": {},
     "output_type": "execute_result"
    }
   ],
   "source": [
    "count.most_common(1)"
   ]
  },
  {
   "cell_type": "code",
   "execution_count": 14,
   "metadata": {},
   "outputs": [
    {
     "data": {
      "text/plain": [
       "[('is', 3), ('my', 2)]"
      ]
     },
     "execution_count": 14,
     "metadata": {},
     "output_type": "execute_result"
    }
   ],
   "source": [
    "count.most_common(2)"
   ]
  },
  {
   "cell_type": "code",
   "execution_count": 16,
   "metadata": {},
   "outputs": [
    {
     "data": {
      "text/plain": [
       "'is'"
      ]
     },
     "execution_count": 16,
     "metadata": {},
     "output_type": "execute_result"
    }
   ],
   "source": [
    "Most_common=count.most_common()\n",
    "Most_common[0][0]\n",
    "# or Most_common=count.most_common()[0][0]"
   ]
  },
  {
   "cell_type": "code",
   "execution_count": null,
   "metadata": {},
   "outputs": [],
   "source": []
  },
  {
   "cell_type": "code",
   "execution_count": null,
   "metadata": {},
   "outputs": [],
   "source": []
  },
  {
   "cell_type": "markdown",
   "metadata": {},
   "source": [
    "## <font color=red> H.W.  </font>\n",
    "Functions are python objects that facilitates re-usability of a program/code. They allow you to write smarter, neater codes that will increase your code efficiency. \n",
    "\n",
    "In the exercise, we areq required to replace mutiple punctuation marks (and new line character) from a text. One solution to that exercise is shown below:\n",
    "\n",
    "<code>\n",
    "    \n",
    "    # Step 1: open the file and read its entire contents\n",
    "    \n",
    "    file = open(\"Mary_Lamb.txt\", mode = \"r\")\n",
    "    contents = file.read()\n",
    "    \n",
    "    # Step 2: replace all punctuations and newline character\n",
    "    \n",
    "    contents = contents.replace(\",\", \"\")\n",
    "    contents = contents.replace(\"'\", \"\")\n",
    "    contents = contents.replace(\".\", \"\")\n",
    "    contents = contents.replace(\";\", \"\")\n",
    "    contents = contents.replace(\"?\", \"\")\n",
    "    contents = contents.replace('\"', \"\")\n",
    "    contents = contents.replace(\"\\n\", \" \")\n",
    "    \n",
    "</code>\n",
    "\n",
    "This solution requires repeating a code line many times until all the symbols in the text were replaced (with nothing). That is cool, but grossly inefficient. A better solution would be to define a function to achieve this.\n",
    "\n",
    "The general format of a function is:\n",
    "\n",
    "<code>\n",
    "    \n",
    "    def function_name(inputs):\n",
    "        \"\"\"\n",
    "        docstrings\n",
    "        \"\"\"\n",
    "        instructions to execute\n",
    "        return output\n",
    "        \n",
    "</code>\n",
    "\n",
    "The docstrings are help information on what the function does; basically, to help you or other users remember what the function does, the inputs it takes and the outputs it generates.\n",
    "\n",
    "Not all functions require inputs; some functions operate on some default values inbuilt into them by the programmer.\n",
    "\n",
    "Now, let's define a function to replace punctuations from the contents of any text file."
   ]
  },
  {
   "cell_type": "code",
   "execution_count": null,
   "metadata": {},
   "outputs": [],
   "source": [
    "# Now, let's define a function to this\n",
    "\n",
    "def remove_punc_from_text(path_to_file, items_to_remove):\n",
    "    \"\"\"\n",
    "    A function to remove punctuations and new line character from a text file\n",
    "    \n",
    "    Args: \n",
    "        path_to_file = The full directory to the file if its not in the working directory\n",
    "        items_to_remove = A list of items (punctuation marks, new line character, etc.) to remove\n",
    "    Returns:\n",
    "        contents = The file contents as a string with the given items removed\n",
    "    \"\"\"\n",
    "    # Step 1: open the file and read its entire contents\n",
    "    file = open(path_to_file, mode = \"r\")\n",
    "    contents = file.read()\n",
    "    \n",
    "    # Step 2: replace all punctuations and newline character\n",
    "    for item in items_to_remove:\n",
    "        if item == \"\\n\": \n",
    "            contents = contents.replace(item, \" \")\n",
    "        else:\n",
    "            contents = contents.replace(item, \"\")\n",
    "    return contents"
   ]
  },
  {
   "cell_type": "markdown",
   "metadata": {},
   "source": [
    "Now, we can use the above function as follows:"
   ]
  },
  {
   "cell_type": "code",
   "execution_count": null,
   "metadata": {},
   "outputs": [],
   "source": [
    "# specific the inputs\n",
    "path_to_file = \"Mary_Lamb.txt\"\n",
    "items_to_remove = [\",\", \"'\",\".\",\";\",\"?\",'\"',\"\\n\"]\n",
    "\n",
    "# now, call the function as follows\n",
    "remove_punc_from_text(path_to_file, items_to_remove)"
   ]
  },
  {
   "cell_type": "markdown",
   "metadata": {},
   "source": [
    "**NOTE**: If you remember, the question also asked us for the count of four-lettered words in the file. Now, let's expand the above function to do that"
   ]
  },
  {
   "cell_type": "code",
   "execution_count": null,
   "metadata": {},
   "outputs": [],
   "source": [
    "def word_freq_calculator(path_to_file, items_to_remove, num_letters):\n",
    "    \"\"\"\n",
    "    A function to calculate the number of occurrence of words containing a given number of letters\n",
    "    \n",
    "    Args: \n",
    "        path_to_file = The full directory to the file if its not in the working directory\n",
    "        items_to_remove = A list of items (punctuation marks, new line character, etc.) to remove\n",
    "        num_letters = desired number of letters\n",
    "         \n",
    "    Returns:\n",
    "        frequency = The number of words containing the given num_letters\n",
    "    \"\"\"\n",
    "    # step 1: open the file, read its contents and remove punctuations & new line characters\n",
    "    # remember, we now have a function to do all that in one go; so, let's use it\n",
    "    contents = remove_punc_from_text(path_to_file, items_to_remove)\n",
    "    \n",
    "    # Now generate a list of words (in contents) containing num_letters\n",
    "    word_list = [item for item in contents.split(\" \") if len(item) == num_letters]\n",
    "    frequency = len(word_list)\n",
    "    return frequency"
   ]
  },
  {
   "cell_type": "code",
   "execution_count": null,
   "metadata": {},
   "outputs": [],
   "source": [
    "# let's use the function\n",
    "# we have already some of the inputs before so there is no need to repeat them here\n",
    "# let's say we need the frequency of 4-lettered words,  then\n",
    "frequency = word_freq_calculator(path_to_file, items_to_remove, 4)\n",
    "\n",
    "# let's print out the result as before\n",
    "print(f\"There are {frequency} four-letter words in the file Mary_Lamb.txt\")"
   ]
  },
  {
   "cell_type": "markdown",
   "metadata": {},
   "source": [
    "### Concluding remarks on functions\n",
    "\n",
    "You are probably wondering if this is worth the stress. The other approach seems less complicated; right! Well, that may be true but think about re-usability. If you desire to find the freqeuncy of all three-lettered words or you a given another file entirely, instead repeating the whole process again, you will simply re-defining your inputs and use the same function.\n",
    "\n",
    "<font size = 3, color = \"blue\">  Try it; find the frequency of **five-lettered words** in the file named **AbrahamLincoln.txt** </font>. There is no need to submit, but feel discuss your solution with others."
   ]
  }
 ],
 "metadata": {
  "kernelspec": {
   "display_name": "Python 3",
   "language": "python",
   "name": "python3"
  },
  "language_info": {
   "codemirror_mode": {
    "name": "ipython",
    "version": 3
   },
   "file_extension": ".py",
   "mimetype": "text/x-python",
   "name": "python",
   "nbconvert_exporter": "python",
   "pygments_lexer": "ipython3",
   "version": "3.8.5"
  },
  "toc": {
   "base_numbering": 1,
   "nav_menu": {},
   "number_sections": true,
   "sideBar": true,
   "skip_h1_title": false,
   "title_cell": "Table of Contents",
   "title_sidebar": "Contents",
   "toc_cell": false,
   "toc_position": {},
   "toc_section_display": true,
   "toc_window_display": false
  }
 },
 "nbformat": 4,
 "nbformat_minor": 4
}
