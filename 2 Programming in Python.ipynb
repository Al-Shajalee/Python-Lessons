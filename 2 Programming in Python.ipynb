{
 "cells": [
  {
   "cell_type": "markdown",
   "metadata": {},
   "source": [
    "<font size =6> Programming in Python </font>\n",
    "\n",
    "By Faaiz Alshajalee "
   ]
  },
  {
   "cell_type": "markdown",
   "metadata": {
    "heading_collapsed": true
   },
   "source": [
    "# <font color=red>Repeating Actions(coverd) </font>"
   ]
  },
  {
   "cell_type": "raw",
   "metadata": {
    "hidden": true
   },
   "source": [
    "# Good way\n"
   ]
  },
  {
   "cell_type": "markdown",
   "metadata": {
    "hidden": true
   },
   "source": [
    "##  <font color=blue>\"for\" loop  </font>"
   ]
  },
  {
   "cell_type": "markdown",
   "metadata": {
    "hidden": true
   },
   "source": [
    "###  <font color=green>In a range  </font>"
   ]
  },
  {
   "cell_type": "code",
   "execution_count": null,
   "metadata": {
    "hidden": true
   },
   "outputs": [],
   "source": [
    "range(0,4,1)"
   ]
  },
  {
   "cell_type": "code",
   "execution_count": null,
   "metadata": {
    "hidden": true,
    "hide_input": false
   },
   "outputs": [],
   "source": [
    "# range(Start,Stop,Steps), SSS\n",
    "list(range(0,4,1))"
   ]
  },
  {
   "attachments": {
    "image.png": {
     "image/png": "[encoded data removed]"
    }
   },
   "cell_type": "markdown",
   "metadata": {
    "hidden": true
   },
   "source": [
    "![image.png](attachment:image.png)"
   ]
  },
  {
   "cell_type": "code",
   "execution_count": null,
   "metadata": {
    "hidden": true
   },
   "outputs": [],
   "source": [
    "# Print all the num in the range: The long way:\n",
    "print(0)\n",
    "print(1)\n",
    "print(2)\n",
    "print(3)"
   ]
  },
  {
   "cell_type": "code",
   "execution_count": null,
   "metadata": {
    "hidden": true
   },
   "outputs": [],
   "source": [
    "# Example 1\n",
    "for i in range(4):  \n",
    "    print(i)"
   ]
  },
  {
   "cell_type": "code",
   "execution_count": null,
   "metadata": {
    "hidden": true
   },
   "outputs": [],
   "source": [
    "import time\n",
    "\n",
    "# Example 1\n",
    "for i in range(4):  \n",
    "    print(i)\n",
    "    print(\"then\")\n",
    "    time.sleep(1) #only for illustration"
   ]
  },
  {
   "cell_type": "markdown",
   "metadata": {
    "hidden": true
   },
   "source": [
    "### <font color=green>In a list  </font>"
   ]
  },
  {
   "cell_type": "code",
   "execution_count": null,
   "metadata": {
    "hidden": true
   },
   "outputs": [],
   "source": [
    "# Example 1: list of strings, call by item:  \n",
    "animals = ['dog', 'cat', 'mouse']\n",
    "\n",
    "for animal in animals:   # animal can be anything\n",
    "    print(animal)\n",
    "    time.sleep(1) "
   ]
  },
  {
   "cell_type": "code",
   "execution_count": null,
   "metadata": {
    "cell_style": "split",
    "hidden": true
   },
   "outputs": [],
   "source": [
    "# Example 2: list of strings, call by index: \n",
    "animals = ['dog', 'cat', 'mouse']\n",
    "\n",
    "for index in range(len(animals)):\n",
    "    print(animals[index])\n",
    "#    print(f\" The animal # {i} is a {animals[i]}\")"
   ]
  },
  {
   "cell_type": "code",
   "execution_count": null,
   "metadata": {
    "cell_style": "split",
    "hidden": true
   },
   "outputs": [],
   "source": [
    "len(animals)"
   ]
  },
  {
   "cell_type": "code",
   "execution_count": null,
   "metadata": {
    "hidden": true
   },
   "outputs": [],
   "source": [
    "####"
   ]
  },
  {
   "cell_type": "code",
   "execution_count": null,
   "metadata": {
    "cell_style": "split",
    "hidden": true
   },
   "outputs": [],
   "source": [
    "# Example 2: list of strings, call by index: \n",
    "animals = ['dog', 'cat', 'mouse']\n",
    "\n",
    "for index, animal in enumerate(animals):\n",
    "    print(animals[index])"
   ]
  },
  {
   "cell_type": "code",
   "execution_count": null,
   "metadata": {
    "cell_style": "split",
    "hidden": true
   },
   "outputs": [],
   "source": [
    "animals = ['dog', 'cat', 'mouse']\n",
    "list(enumerate(animals))"
   ]
  },
  {
   "cell_type": "code",
   "execution_count": null,
   "metadata": {
    "hidden": true
   },
   "outputs": [],
   "source": [
    "# C.W.1: \n",
    "# Given: nums = [32, 28, 30]\n",
    "# Requred: Calculate the \"sum\" and the \"avg.\" of the numbers in \"nums\" list of"
   ]
  },
  {
   "cell_type": "code",
   "execution_count": null,
   "metadata": {
    "hidden": true,
    "hide_input": false
   },
   "outputs": [],
   "source": [
    "# H.W.1:Solution\n",
    "nums = [32, 28, 30]\n",
    "\n",
    "Sum=0\n",
    "\n",
    "for num in nums:\n",
    "    #Sum=Sum+num\n",
    "    #Sum += num     # Sum=Sum+num\n",
    "\n",
    "print('The sum of the nums is', Sum)\n",
    "print('The avg. of the nums is', Sum/len(nums))"
   ]
  },
  {
   "cell_type": "markdown",
   "metadata": {
    "hidden": true
   },
   "source": [
    "###  <font color=green>In a dict  </font>"
   ]
  },
  {
   "cell_type": "code",
   "execution_count": null,
   "metadata": {
    "hidden": true
   },
   "outputs": [],
   "source": [
    "# Example 1:key\n",
    "people = {'Bob': 32, 'John': 30, 'Fareedah': 28}\n",
    "\n",
    "for name in people:   # name=key\n",
    "    print(name)"
   ]
  },
  {
   "cell_type": "code",
   "execution_count": null,
   "metadata": {
    "hidden": true
   },
   "outputs": [],
   "source": [
    "# Example 2:value\n",
    "people = {'Bob': 32, 'John': 30, 'Fareedah': 28}\n",
    "\n",
    "for name in people:\n",
    "    print(people[name])"
   ]
  },
  {
   "cell_type": "code",
   "execution_count": null,
   "metadata": {
    "hidden": true
   },
   "outputs": [],
   "source": [
    "# Example 3:item\n",
    "people = {'Bob': 32, 'Joh': 30, 'Sam': 28}\n",
    "\n",
    "for name,age in people.items():  # name=key & age=vlaue\n",
    "    print(f\"the is {name} : {age} years old\")"
   ]
  },
  {
   "cell_type": "code",
   "execution_count": null,
   "metadata": {
    "hidden": true
   },
   "outputs": [],
   "source": [
    "# Example 4:value\n",
    "people = {'Bob': 32, 'John': 30, 'Fareedah': 28}\n",
    "\n",
    "Age_Sum = 0\n",
    "for age in people.values():\n",
    "    Age_Sum+=age\n",
    "    print(f\"{age}\")\n",
    "\n",
    "print(f\"the age sum is {Age_Sum}\")"
   ]
  },
  {
   "cell_type": "code",
   "execution_count": null,
   "metadata": {
    "hidden": true,
    "hide_input": false
   },
   "outputs": [],
   "source": [
    "# H.w.1: Age avarage\n",
    "# Given: people = {'Bob': 32, 'John': 30, 'Fareedah': 28}\n",
    "# Requird: Calculate the age avarage of the people in the \"people dictionery\""
   ]
  },
  {
   "cell_type": "code",
   "execution_count": null,
   "metadata": {
    "hidden": true,
    "hide_input": false
   },
   "outputs": [],
   "source": [
    "people = {'Bob': 32, 'John': 30, 'Fareedah': 28}\n",
    "\n",
    "Age_Sum = 0\n",
    "for age in people.values():\n",
    "    Age_Sum += age   # Age_Sum = Age_Sum + age\n",
    "\n",
    "print('The avg. of the ages is', Age_Sum/len(people))"
   ]
  },
  {
   "cell_type": "markdown",
   "metadata": {
    "hidden": true
   },
   "source": [
    "###  <font color=green>In a string  </font>"
   ]
  },
  {
   "cell_type": "code",
   "execution_count": null,
   "metadata": {
    "hidden": true
   },
   "outputs": [],
   "source": [
    "import time\n",
    "\n",
    "# Example 1\n",
    "name=\"Mustafa\"\n",
    "for letter in name:\n",
    "    print (f\" {letter.upper()}\")\n",
    "    time.sleep(1)  # only for illustration"
   ]
  },
  {
   "cell_type": "markdown",
   "metadata": {
    "hidden": true
   },
   "source": [
    "###  <font color=green>Nested loop  </font>"
   ]
  },
  {
   "cell_type": "code",
   "execution_count": null,
   "metadata": {
    "hidden": true
   },
   "outputs": [],
   "source": [
    "import time\n",
    "\n",
    "# Example 1: list\n",
    "letters = [\"A\", \"B\",\"C\"]\n",
    "\n",
    "for letter in letters:\n",
    "    print (f\" {letter}:\")\n",
    "    time.sleep(1)\n",
    "    \n",
    "    for i in range(5):\n",
    "        print (f\" {i}\")\n",
    "        time.sleep(1)"
   ]
  },
  {
   "cell_type": "code",
   "execution_count": null,
   "metadata": {
    "hidden": true
   },
   "outputs": [],
   "source": [
    "# Example 2: list\n",
    "people = [\"Jhon\", \"Archi\"]\n",
    "skills=[\"Python\", \"Matlab\"]\n",
    "\n",
    "for name in people:\n",
    "    print (f\" {name} skils are:\")\n",
    "    print (f\" {name} skils are:\")\n",
    "    \n",
    "#     for skill in skills:\n",
    "#         print (f\" {skill}\")"
   ]
  },
  {
   "cell_type": "code",
   "execution_count": null,
   "metadata": {
    "hidden": true
   },
   "outputs": [],
   "source": [
    "# Example 2: list\n",
    "people = [\"Jhon\", \"Archi\"]\n",
    "skills=[\"Python\", \"Matlab\"]\n",
    "\n",
    "for i in range(2):\n",
    "    name=people[i] \n",
    "    skill=skills[i]\n",
    "    print (f\" {name}:{skill}\")\n",
    "    #print (f\"  \")\n",
    "    \n",
    "#     for skill in skills:\n",
    "#         print (f\" {skill}\")"
   ]
  },
  {
   "cell_type": "code",
   "execution_count": null,
   "metadata": {
    "hidden": true
   },
   "outputs": [],
   "source": [
    "# Example 3: Dict\n",
    "people = {'Bob': {\"Python\":85, \"Matlab\":30}, \n",
    "          'Sam': {\"Java\":25, \"Matlab\":80}}\n",
    "\n",
    "for name, skill in people.items():  # name=key & age=vlaue\n",
    "    print(f\"{name} skils are:\")\n",
    "    time.sleep(3)\n",
    "    \n",
    "    for skill, progress in skill.items():\n",
    "        print(f\"             {skill} with {progress}% progress\")\n",
    "        time.sleep(1)"
   ]
  },
  {
   "cell_type": "markdown",
   "metadata": {
    "hidden": true
   },
   "source": [
    "##  <font color=blue>\"while\" loop  </font>"
   ]
  },
  {
   "cell_type": "markdown",
   "metadata": {
    "hidden": true
   },
   "source": [
    " while true: code will run (or output)"
   ]
  },
  {
   "cell_type": "code",
   "execution_count": null,
   "metadata": {
    "cell_style": "split",
    "hidden": true
   },
   "outputs": [],
   "source": [
    "# Example 1:\n",
    "a=5\n",
    "\n",
    "while a<=6:    \n",
    "    print (a)\n",
    "    a +=1       # a = a + 1\n",
    "    time.sleep(1)  # only for illustration"
   ]
  },
  {
   "cell_type": "code",
   "execution_count": null,
   "metadata": {
    "cell_style": "split",
    "hidden": true
   },
   "outputs": [],
   "source": [
    "a=5\n",
    "a<=4 "
   ]
  },
  {
   "cell_type": "code",
   "execution_count": null,
   "metadata": {
    "hidden": true
   },
   "outputs": [],
   "source": [
    "# Example 2:\n",
    "a=100\n",
    "\n",
    "while a<4:     \n",
    "    print (a)\n",
    "    a +=1 \n",
    "else: \n",
    "    print (\"Condition is not valid\")"
   ]
  },
  {
   "cell_type": "code",
   "execution_count": null,
   "metadata": {
    "hidden": true
   },
   "outputs": [],
   "source": [
    "# Example 3:\n",
    "Name = ['Bob','John','Jamiu']\n",
    "a=0\n",
    "\n",
    "while a<len(Name):\n",
    "    print (Name[a])\n",
    "    a+=1"
   ]
  },
  {
   "cell_type": "code",
   "execution_count": null,
   "metadata": {
    "hidden": true
   },
   "outputs": [],
   "source": [
    "# Example 4\n",
    "Name = ['Bob','John','Jamiu']\n",
    "a=0\n",
    "\n",
    "while a<len(Name):\n",
    "    print (f\"#{a+1} {Name[a]}\")\n",
    "    a+=1"
   ]
  },
  {
   "cell_type": "code",
   "execution_count": null,
   "metadata": {
    "hidden": true
   },
   "outputs": [],
   "source": [
    "# H.W 1: Simple bookmark manger: \n",
    "# Required: Creat a list of 3 favorite websites \n",
    "# Hint: use while, input and append\n",
    "# Hint: during the input show a letter for how many places left to input (Input only 3 websites)"
   ]
  },
  {
   "cell_type": "code",
   "execution_count": null,
   "metadata": {
    "hidden": true,
    "hide_input": true
   },
   "outputs": [],
   "source": [
    "# Hint:\n",
    "x=input(\"Input x value: \")\n",
    "print(f'x= {x}')"
   ]
  },
  {
   "cell_type": "code",
   "execution_count": null,
   "metadata": {
    "hidden": true,
    "hide_input": false
   },
   "outputs": [],
   "source": [
    "# H.W 1:Solution: \n",
    "\n",
    "myFavWebs=[]\n",
    "\n",
    "maxWebs=3\n",
    "\n",
    "while maxWebs>0:\n",
    "    web=input(\"Website name without https://\") # input the new website\n",
    "    myFavWebs.append(f\"https://{web.strip().lower()}\") # add the new website to a list\n",
    "    maxWebs -=1\n",
    "    print(f\"Website is added, {maxWebs} places left\")\n",
    "\n",
    "print(\"-\"*40)\n",
    "print(\"-\"*40)\n",
    "print(\"The favorite websites of the user are:\", myFavWebs)"
   ]
  },
  {
   "cell_type": "markdown",
   "metadata": {},
   "source": [
    "# <font color=red>Conditions and Control Flow (coverd)</font>"
   ]
  },
  {
   "cell_type": "markdown",
   "metadata": {},
   "source": [
    "<font size =2>You will often need to make a choice among options while programming. This means you may have to set conditions for deciding what the computer does given different options\n",
    "</font>"
   ]
  },
  {
   "cell_type": "markdown",
   "metadata": {},
   "source": [
    "##  <font color=blue> if True: Output  </font>"
   ]
  },
  {
   "attachments": {
    "condition.jpg": {
     "image/jpeg": "[encoded data removed]"
    }
   },
   "cell_type": "markdown",
   "metadata": {},
   "source": [
    "<font size =3>The general format for working with <b> <span class=\"mark\">\"if elif else\"</span> </b> in python is:\n",
    "\n",
    "![condition.jpg](attachment:condition.jpg)\n",
    "\n",
    "Note: use <b> colon (:) </b> at the end of each conditional statement and use <b>indentation</b> before each option.\n",
    "</font>"
   ]
  },
  {
   "attachments": {
    "image.png": {
     "image/png": "[encoded data removed]"
    }
   },
   "cell_type": "markdown",
   "metadata": {},
   "source": [
    "![image.png](attachment:image.png)"
   ]
  },
  {
   "cell_type": "code",
   "execution_count": null,
   "metadata": {
    "cell_style": "split"
   },
   "outputs": [],
   "source": [
    "# Example 1: General form\n",
    "a = 200\n",
    "b = 100 # Try b=200, b=300\n",
    "\n",
    "if a > b:\n",
    "  print(\"'a' is greater than 'b'\")\n",
    "\n",
    "elif a == b:\n",
    "  print(\"'a' and 'b' are equal\")\n",
    "\n",
    "else:\n",
    "  print(\"'b' is greater than 'a'\") "
   ]
  },
  {
   "cell_type": "code",
   "execution_count": null,
   "metadata": {
    "cell_style": "split"
   },
   "outputs": [],
   "source": [
    "a = 200\n",
    "b = 100 # Try b=200, b=300\n",
    "a > b"
   ]
  },
  {
   "cell_type": "code",
   "execution_count": null,
   "metadata": {
    "cell_style": "split"
   },
   "outputs": [],
   "source": [
    "a = 200\n",
    "b = 300 \n",
    "a > b"
   ]
  },
  {
   "cell_type": "code",
   "execution_count": null,
   "metadata": {
    "cell_style": "split"
   },
   "outputs": [],
   "source": [
    "a = 200\n",
    "b = 200 \n",
    "a > b"
   ]
  },
  {
   "cell_type": "code",
   "execution_count": null,
   "metadata": {
    "cell_style": "split"
   },
   "outputs": [],
   "source": [
    "# Example 5: Using AND, Or\n",
    "a = 10\n",
    "b = 1\n",
    "c = 5 \n",
    "\n",
    "if a > b or a > c:\n",
    "  print(\"At least one of the conditions is True\")\n",
    "\n",
    "if a > b and a > c:\n",
    "  print(\"Both of the conditions are True\")"
   ]
  },
  {
   "cell_type": "code",
   "execution_count": null,
   "metadata": {
    "cell_style": "split"
   },
   "outputs": [],
   "source": [
    "a = 10\n",
    "b = 1\n",
    "c = 5 # Try different values\n",
    "\n",
    "a > b or a > c"
   ]
  },
  {
   "cell_type": "code",
   "execution_count": null,
   "metadata": {
    "cell_style": "split"
   },
   "outputs": [],
   "source": [
    "a = 10\n",
    "b = 1\n",
    "c = 5 # Try different values\n",
    "a > b and a > c"
   ]
  },
  {
   "cell_type": "markdown",
   "metadata": {},
   "source": [
    " ###  <font color=green>Short_Hand If  </font>\n",
    " One-Line if Statements"
   ]
  },
  {
   "cell_type": "code",
   "execution_count": null,
   "metadata": {},
   "outputs": [],
   "source": [
    "# Example 1:\n",
    "a=10\n",
    "b=2\n",
    "\n",
    "if a > b: print(\"a is greater than b\")"
   ]
  },
  {
   "cell_type": "code",
   "execution_count": null,
   "metadata": {},
   "outputs": [],
   "source": [
    "# Example 2: excute many options in one line using ;\n",
    "a=10\n",
    "b=2\n",
    "\n",
    "if a > b: print(\"a =\",a,\"and b=\",b); print(\"a is greater than b\")"
   ]
  },
  {
   "cell_type": "code",
   "execution_count": null,
   "metadata": {},
   "outputs": [],
   "source": [
    "# Example 3:\n",
    "x = 2\n",
    "\n",
    "if x == 1: print('One'); print('Two'); print('Three')\n",
    "elif x == 2: print('Two'); print('Three'); print('Four')\n",
    "else: print('Three'); print('Four'); print('Five')"
   ]
  },
  {
   "cell_type": "code",
   "execution_count": null,
   "metadata": {},
   "outputs": [],
   "source": [
    "# C.W. 1:\n",
    "# Given: x=1 or 2 or 3 or ...\n",
    "# Requirment: Test if x is odd or even"
   ]
  },
  {
   "cell_type": "code",
   "execution_count": null,
   "metadata": {
    "hide_input": true
   },
   "outputs": [],
   "source": [
    "x=2 \n",
    "\n",
    "if x%2 == 0: \n",
    "    print(\"'x' is an even number\")\n",
    "else:\n",
    "    print(\"'x' is an odd number\")"
   ]
  },
  {
   "cell_type": "code",
   "execution_count": null,
   "metadata": {},
   "outputs": [],
   "source": [
    "# C.W. 2:  Use input function to inter a number\n",
    "# Requird: let your code decide if user input is an even or an odd number"
   ]
  },
  {
   "cell_type": "code",
   "execution_count": null,
   "metadata": {
    "hide_input": true
   },
   "outputs": [],
   "source": [
    "# C.W. 2: Answer\n",
    "\n",
    "print(\"Please enter an integer then press Enter\")\n",
    "number = input()\n",
    "number = int(number)\n",
    "\n",
    "if number % 2 == 0:\n",
    "    print(\"You just entered an even number = \", number)    \n",
    "else:\n",
    "    print(\"You just entered an odd number = \", number)"
   ]
  },
  {
   "cell_type": "code",
   "execution_count": null,
   "metadata": {
    "hide_input": true
   },
   "outputs": [],
   "source": [
    "# C.W. 1:  Answer\n",
    "x=4 \n",
    "if x%2 == 0: \n",
    "    print(\"x is an even number\")\n",
    "else:\n",
    "    print(\"x is an odd number\")"
   ]
  },
  {
   "cell_type": "code",
   "execution_count": null,
   "metadata": {},
   "outputs": [],
   "source": [
    "# C.W. 2: Using \"loop\" anf \"if\" together\n",
    "# Given: nums = [1, 2, 3, 4, 5]\n",
    "# Requird: Find Even & odd numbers in the \"nums\" list"
   ]
  },
  {
   "cell_type": "code",
   "execution_count": null,
   "metadata": {
    "hide_input": true
   },
   "outputs": [],
   "source": [
    "# C.W. 2:  Answer\n",
    "\n",
    "nums = [1, 2, 3, 4, 5]\n",
    "\n",
    "for num in nums:\n",
    "    if num % 2==0:\n",
    "        print(f'Num {num} is even')\n",
    "    else:\n",
    "        print(f'Num {num} is odd')"
   ]
  },
  {
   "cell_type": "code",
   "execution_count": null,
   "metadata": {},
   "outputs": [],
   "source": [
    "# H.W. 1: \n",
    "# Given: A heterogeneous list (myList) consists of: strings, integers, and floats\n",
    "# myList = [1, 5, -2,\"Lam\", 5.25, 1.245, 0.5,\"Ram\", -3, 0, 10, 2, -1, 0, 1, 1.25, -9.3, 3, 5, 6, \"Sam\"]\n",
    "\n",
    "# Requird: Create a sorted lists (subsets) without any element repeated:\n",
    "#          1- integer list\n",
    "#          2- float list \n",
    "#          2- string list"
   ]
  },
  {
   "cell_type": "code",
   "execution_count": null,
   "metadata": {
    "hide_input": false
   },
   "outputs": [],
   "source": [
    "# H.W. 1: Answer\n",
    "\n",
    "myList = [1, 5, -2,\"Lam\", 5.25, 1.245, 0.5,\"Ram\", -3, 0, 10, 2, -1, 0, 1, 1.25, -9.3, 3, 5, 6, \"Sam\"]\n",
    "\n",
    "int_List = []; float_List = []; str_List = []\n",
    "\n",
    "for item in myList:\n",
    "    if type(item) == int:\n",
    "        int_List.append(item)\n",
    "    elif type(item) == float:\n",
    "        float_List.append(item)\n",
    "    else:\n",
    "        str_List.append(item)\n",
    "\n",
    "print(\"Int_List =\", set(int_List))        # set sort and remove repeation\n",
    "print(\"Float_List =\", set(float_List))\n",
    "print(\"String_List =\", set(str_List))"
   ]
  },
  {
   "cell_type": "markdown",
   "metadata": {},
   "source": [
    " ###  <font color=green>Nested If  </font>"
   ]
  },
  {
   "cell_type": "code",
   "execution_count": null,
   "metadata": {},
   "outputs": [],
   "source": [
    "# Example 1:\n",
    "x =15 \n",
    "\n",
    "if x > 10:\n",
    "  print(\"x is above ten,\")\n",
    "  \n",
    "  if x > 20:\n",
    "    print(\"and also above 20!\")\n",
    "  else:\n",
    "    print(\"but not above 20.\")\n",
    "else:\n",
    "   print(\"x is less tham ten,\") "
   ]
  },
  {
   "cell_type": "code",
   "execution_count": null,
   "metadata": {},
   "outputs": [],
   "source": [
    "# H.W. 1: Use \"loop\" anf \"Nested-if\" together\n",
    "\n",
    "# Given:I have a heterogeneous list (myList): integers, and floats\n",
    "# myList = [1, 5, -2, 5.25, 1.245, 0.5, -3, 0, 10, 2, -1, 0, 1, 1.25, -9.3, 3, 5, 6]\n",
    "\n",
    "# Requird: I want to create a sorted lists (subsets) without any element repeated:\n",
    "#    1- integer list (only +ve and even numbers)\n",
    "#    2- float list "
   ]
  },
  {
   "cell_type": "code",
   "execution_count": null,
   "metadata": {
    "hide_input": false
   },
   "outputs": [],
   "source": [
    "# H.W. 1:  Answer\n",
    "\n",
    "myList = [1, 5, -2, 5.25, 1.245, 0.5, -3, 0, 10, 2, -1, 0, 1, 1.25, -9.3, 3, 5, 6]\n",
    "\n",
    "intList = []; floatList = []\n",
    "\n",
    "for item in myList:\n",
    "    if type(item) == int:\n",
    "        if item%2 ==0 and item >=0:\n",
    "            intList.append(item)\n",
    "    else:\n",
    "        floatList.append(item)\n",
    "\n",
    "print(\"intList =\", set(intList))        # set sort and remove repeation\n",
    "print(\"floatList =\", set(floatList))"
   ]
  },
  {
   "cell_type": "markdown",
   "metadata": {},
   "source": [
    "##  <font color=blue>Output if True </font>"
   ]
  },
  {
   "cell_type": "markdown",
   "metadata": {},
   "source": [
    " Creating a new value that meet certain conditions, like function.   "
   ]
  },
  {
   "cell_type": "code",
   "execution_count": null,
   "metadata": {
    "cell_style": "split"
   },
   "outputs": [],
   "source": [
    "# Example 2: \n",
    "a=20\n",
    "b=10\n",
    "\n",
    "a if a > b else b"
   ]
  },
  {
   "cell_type": "code",
   "execution_count": null,
   "metadata": {
    "cell_style": "split"
   },
   "outputs": [],
   "source": [
    "# Boolean results: True or False\n",
    "a=20\n",
    "b=10 # Try different values\n",
    "\n",
    "a > b"
   ]
  },
  {
   "cell_type": "code",
   "execution_count": null,
   "metadata": {
    "cell_style": "center",
    "hide_input": false
   },
   "outputs": [],
   "source": [
    "# Example 1: \n",
    "a=20\n",
    "b=10\n",
    "\n",
    "a if True else b   # Try the next line\n",
    "# a if False else b "
   ]
  },
  {
   "cell_type": "code",
   "execution_count": null,
   "metadata": {},
   "outputs": [],
   "source": [
    "# Example 3: Assigning the output to a variable\n",
    "a=10\n",
    "b=20\n",
    "\n",
    "m = a if a > b else b\n",
    "m"
   ]
  },
  {
   "cell_type": "markdown",
   "metadata": {},
   "source": [
    " ###  <font color=green>Ternary Operators </font>"
   ]
  },
  {
   "cell_type": "code",
   "execution_count": null,
   "metadata": {},
   "outputs": [],
   "source": [
    "# Example 1: \n",
    "a = 200 \n",
    "b = 100 # Try different values\n",
    "\n",
    "\"A > B\" if a > b else \"A < B\" if a < b else print(\"A = B\")"
   ]
  },
  {
   "cell_type": "code",
   "execution_count": null,
   "metadata": {},
   "outputs": [],
   "source": [
    "# Example 2:\n",
    "a = 200 \n",
    "b = 100 \n",
    "\n",
    "print(\"a > b\") if a > b else print(\"a = b\") if a == b else print(\"a < b\")"
   ]
  },
  {
   "cell_type": "code",
   "execution_count": null,
   "metadata": {
    "cell_style": "split"
   },
   "outputs": [],
   "source": [
    "# Example 2:\n",
    "a = 500 \n",
    "b = 400 \n",
    "\n",
    "a-b if a > b else 0 if a == b else (b-a)*-1  "
   ]
  },
  {
   "cell_type": "code",
   "execution_count": null,
   "metadata": {
    "cell_style": "split"
   },
   "outputs": [],
   "source": [
    "a = 500 \n",
    "b = 400 \n",
    "\n",
    "a > b and a > 0 # and/or also can be used"
   ]
  },
  {
   "cell_type": "markdown",
   "metadata": {
    "heading_collapsed": true
   },
   "source": [
    "##  <font color=blue>True & False expressions in Python  </font> "
   ]
  },
  {
   "cell_type": "markdown",
   "metadata": {
    "hidden": true
   },
   "source": [
    " ###  <font color=green>Item in a list  </font> "
   ]
  },
  {
   "cell_type": "code",
   "execution_count": null,
   "metadata": {
    "cell_style": "split",
    "hidden": true
   },
   "outputs": [],
   "source": [
    "# Example 1: if True: Output \n",
    "A_list=['foo', 'bar', 'baz']\n",
    "\n",
    "if 'foo' in A_list: \n",
    "    print('Yes {foo} is in the list')"
   ]
  },
  {
   "cell_type": "code",
   "execution_count": null,
   "metadata": {
    "cell_style": "split",
    "hidden": true
   },
   "outputs": [],
   "source": [
    "'foo' in ['foo', 'bar', 'baz']"
   ]
  },
  {
   "cell_type": "code",
   "execution_count": null,
   "metadata": {
    "hidden": true
   },
   "outputs": [],
   "source": [
    "# Example 2: Output if True\n",
    "A_list=['foo', 'bar', 'baz']\n",
    "\n",
    "\"Yes\"  if 'foo' in A_list else \"no\""
   ]
  },
  {
   "cell_type": "code",
   "execution_count": null,
   "metadata": {
    "hidden": true
   },
   "outputs": [],
   "source": [
    "# Example 3: all in one line\n",
    "c='qux'\n",
    "\n",
    "f'Yes {c} is in the list' if c in ['foo', 'bar', 'baz'] else f'{c} is not in the list'"
   ]
  },
  {
   "cell_type": "markdown",
   "metadata": {
    "hidden": true
   },
   "source": [
    " ###  <font color=green>Not  </font> "
   ]
  },
  {
   "cell_type": "code",
   "execution_count": null,
   "metadata": {
    "cell_style": "center",
    "hidden": true
   },
   "outputs": [],
   "source": [
    "# Example 2: \n",
    "raining =True # try False\n",
    "'library' if raining else 'beach' "
   ]
  },
  {
   "cell_type": "code",
   "execution_count": null,
   "metadata": {
    "cell_style": "split",
    "hidden": true
   },
   "outputs": [],
   "source": [
    "# Example 2: using not True or not False\n",
    "raining = True\n",
    "\n",
    "'beach' if not raining else 'library'"
   ]
  },
  {
   "cell_type": "code",
   "execution_count": null,
   "metadata": {
    "cell_style": "split",
    "hidden": true
   },
   "outputs": [],
   "source": [
    "raining = True\n",
    "not raining"
   ]
  },
  {
   "cell_type": "markdown",
   "metadata": {
    "hidden": true
   },
   "source": [
    " ###  <font color=green>is methods  </font> "
   ]
  },
  {
   "cell_type": "code",
   "execution_count": null,
   "metadata": {
    "cell_style": "split",
    "hidden": true
   },
   "outputs": [],
   "source": [
    "# Example 1:\n",
    "'Upper' if \"ABC\".isupper( ) else 'Lower' # Try \"abc\""
   ]
  },
  {
   "cell_type": "code",
   "execution_count": null,
   "metadata": {
    "cell_style": "split",
    "hidden": true
   },
   "outputs": [],
   "source": [
    "\"ABC\".isupper( ) # You can use the other methods of is"
   ]
  },
  {
   "cell_type": "markdown",
   "metadata": {
    "hidden": true
   },
   "source": [
    " ###  <font color=green>is vs. ==  </font>"
   ]
  },
  {
   "cell_type": "code",
   "execution_count": null,
   "metadata": {
    "hidden": true
   },
   "outputs": [],
   "source": [
    "list_1 = [1, 2, 3]\n",
    "list_2 = list_1\n",
    "\n",
    "list_3 = [1, 2, 3]\n",
    "list_4 = list_1.copy()\n",
    "\n",
    "print(list_1)\n",
    "print(list_2)\n",
    "print(list_3)\n",
    "print(list_4)"
   ]
  },
  {
   "cell_type": "code",
   "execution_count": null,
   "metadata": {
    "cell_style": "split",
    "hidden": true
   },
   "outputs": [],
   "source": [
    "print(list_1 == list_2)\n",
    "print(list_1 == list_3)\n",
    "print(list_1 == list_4)"
   ]
  },
  {
   "cell_type": "code",
   "execution_count": null,
   "metadata": {
    "cell_style": "split",
    "hidden": true
   },
   "outputs": [],
   "source": [
    "print(list_1 is list_2)\n",
    "print(list_1 is list_3)\n",
    "print(list_1 is list_4)"
   ]
  },
  {
   "cell_type": "markdown",
   "metadata": {},
   "source": [
    "##  <font color=blue>Break, Continue & Pass</font>\n",
    "Note: they control loops"
   ]
  },
  {
   "cell_type": "markdown",
   "metadata": {},
   "source": [
    " ###  <font color=green>Break  </font> "
   ]
  },
  {
   "cell_type": "code",
   "execution_count": null,
   "metadata": {},
   "outputs": [],
   "source": [
    "import time\n",
    "\n",
    "nums = [1, 2, 3, 4, 5]\n",
    "\n",
    "for num in nums:\n",
    "    print(num)\n",
    "    time.sleep(1) # Only for illustration\n",
    "    if num == 3:\n",
    "        break"
   ]
  },
  {
   "cell_type": "markdown",
   "metadata": {},
   "source": [
    " ###  <font color=green>Continue  </font> "
   ]
  },
  {
   "cell_type": "code",
   "execution_count": null,
   "metadata": {},
   "outputs": [],
   "source": [
    "nums = [1, 2, 3, 4, 5]\n",
    "\n",
    "for num in nums:\n",
    "    if num == 3:\n",
    "        continue\n",
    "    print(num)\n",
    "    time.sleep(1) # Only for illustration"
   ]
  },
  {
   "cell_type": "markdown",
   "metadata": {},
   "source": [
    " ###  <font color=green>Pass  </font> "
   ]
  },
  {
   "cell_type": "code",
   "execution_count": null,
   "metadata": {},
   "outputs": [],
   "source": [
    "nums = [1, 2, 3, 4, 5]\n",
    "for num in nums:\n",
    "    if num == 3:\n",
    "        pass     # If i need to get back to this line and put codes\n",
    "    print(num)"
   ]
  },
  {
   "cell_type": "code",
   "execution_count": null,
   "metadata": {},
   "outputs": [],
   "source": [
    "# H.W: Password guess\n",
    "# Required: Enter a password and test it if true or fales, max Tries =4\n",
    "# Hint: use input, while, if, break"
   ]
  },
  {
   "cell_type": "code",
   "execution_count": null,
   "metadata": {
    "hide_input": false
   },
   "outputs": [],
   "source": [
    "# H.W: Answer\n",
    "\n",
    "maxTries =4\n",
    "truePassword=\"6\"\n",
    "\n",
    "print(\"Enter password (0 to 9), you have only 4 tries\") \n",
    "inputPassword=input(\"Input password:\")\n",
    "\n",
    "while inputPassword != truePassword:\n",
    "    maxTries -=1 \n",
    "    print(f\"Wrong password, {'Last' if maxTries==0 else maxTries} tryies left\")\n",
    "    if maxTries ==0:\n",
    "        break\n",
    "    inputPassword=input(\"Input another password:\")\n",
    "   \n",
    "else:\n",
    "    print(\"-\"*30)\n",
    "    print(\"Congrats --- Your password is right\")    "
   ]
  },
  {
   "cell_type": "markdown",
   "metadata": {
    "heading_collapsed": true
   },
   "source": [
    "# <font color=red>List, Tuple, and Dictionary Comprehension (coverd) </font>"
   ]
  },
  {
   "cell_type": "markdown",
   "metadata": {
    "hidden": true
   },
   "source": [
    "Create new value: \"for\" loop & if\n",
    "<p></p>\n",
    "<font size = 3> Assuming we want to make a list of the squares of the elements of another list of numbers. Of course, we can use for loop, but that can become very slow especially if the list is large. A smarter approach is to use list comprehension, which generally follows the following format:\n",
    "    \n",
    "<p></p>\n",
    "<b>\n",
    "<span class=\"mark\">new_list = [do_something_with_item     for item in original_list        if condition applies]</span>\n",
    "</b>\n",
    "</font>"
   ]
  },
  {
   "cell_type": "markdown",
   "metadata": {
    "hidden": true
   },
   "source": [
    "## <font color=blue>List Comprehension </font>"
   ]
  },
  {
   "cell_type": "markdown",
   "metadata": {
    "hidden": true
   },
   "source": [
    "### <font color=green>One loop </font>"
   ]
  },
  {
   "cell_type": "code",
   "execution_count": null,
   "metadata": {
    "hidden": true
   },
   "outputs": [],
   "source": [
    "# Example1: calculate the square value for numbers 1-10\n",
    "\n",
    "# Old method: The long way\n",
    "squares=[]\n",
    "\n",
    "for i in range(0,11):\n",
    "    squares.append(i*i)\n",
    "squares"
   ]
  },
  {
   "cell_type": "code",
   "execution_count": null,
   "metadata": {
    "hidden": true
   },
   "outputs": [],
   "source": [
    "# Let's make a list of the square of all the even numbers between 1 & 10 (inclusive):\n",
    "\n",
    "# Old method: The long way\n",
    "# step 1: Creat an empty list to hold the numbers\n",
    "# step 2: loop over the numbers from 1 to 10 (i.e. range(1, 11))\n",
    "# step 3: In each iteration, check that the number is even (a number is even if number%2 == 0)\n",
    "# step 4: if the number is even, append it to the list created in step 1\n",
    "                                      \n",
    "square_even = []                                  # step 1\n",
    "\n",
    "for number in range(1,11):                        # step 2\n",
    "    if number%2 == 0:                             # step 3         \n",
    "        square_even.append(number**2)   # step 4         \n",
    "\n",
    "square_even"
   ]
  },
  {
   "cell_type": "code",
   "execution_count": null,
   "metadata": {
    "hidden": true
   },
   "outputs": [],
   "source": [
    "# List comprehension method\n",
    "squares=[i*i for i in range(0,11)]\n",
    "squares"
   ]
  },
  {
   "cell_type": "code",
   "execution_count": null,
   "metadata": {
    "hidden": true
   },
   "outputs": [],
   "source": [
    "# Example2: calculate the square value for only even numbers in 1-10\n",
    "\n",
    "squares_even=[i*i for i in range(0,11) if i%2==0] # Or\n",
    "# square_even = [num**2 for num in range(1,10) if num%2 == 0] \n",
    "squares_even"
   ]
  },
  {
   "cell_type": "markdown",
   "metadata": {
    "hidden": true
   },
   "source": [
    "### <font color=green>Two loops </font>"
   ]
  },
  {
   "cell_type": "code",
   "execution_count": null,
   "metadata": {
    "hidden": true
   },
   "outputs": [],
   "source": [
    "# Example1: Two loops\n",
    "\n",
    "xx= [i*j for i in range(3) for j in range(3)]\n",
    "xx"
   ]
  },
  {
   "cell_type": "code",
   "execution_count": null,
   "metadata": {
    "hidden": true
   },
   "outputs": [],
   "source": [
    "# Example2: Two loops and if \n",
    "xx= [i*j for i in range(3) for j in range(3) if i*j>0]\n",
    "xx"
   ]
  },
  {
   "cell_type": "code",
   "execution_count": null,
   "metadata": {
    "hidden": true
   },
   "outputs": [],
   "source": [
    "# Example3:\n",
    "xx= [[i*j for i in range(3)] for j in range(3)] \n",
    "xx"
   ]
  },
  {
   "cell_type": "code",
   "execution_count": null,
   "metadata": {
    "hidden": true
   },
   "outputs": [],
   "source": [
    "# Example4:\n",
    "\n",
    "xx= [[0 for _ in range(3)] for _ in range(3)]\n",
    "xx"
   ]
  },
  {
   "cell_type": "markdown",
   "metadata": {
    "hidden": true
   },
   "source": [
    "The list comprehension approach is not only neater, but it is also quicker\n",
    "    \n",
    "    \n",
    "  \n"
   ]
  },
  {
   "cell_type": "markdown",
   "metadata": {
    "hidden": true
   },
   "source": [
    "## <font color=blue>Tuple Comprehension </font>"
   ]
  },
  {
   "cell_type": "code",
   "execution_count": null,
   "metadata": {
    "hidden": true
   },
   "outputs": [],
   "source": [
    "# Example 1\n",
    "x=(i for i in range(3)) \n",
    "list(x)"
   ]
  },
  {
   "cell_type": "code",
   "execution_count": null,
   "metadata": {
    "hidden": true
   },
   "outputs": [],
   "source": [
    "# Example 2:\n",
    "x=list(i for i in range(3)) \n",
    "x "
   ]
  },
  {
   "cell_type": "code",
   "execution_count": null,
   "metadata": {
    "hidden": true
   },
   "outputs": [],
   "source": [
    "# Example 3:\n",
    "x=list(i for i in \"Hellow\") \n",
    "x "
   ]
  },
  {
   "cell_type": "code",
   "execution_count": null,
   "metadata": {
    "hidden": true
   },
   "outputs": [],
   "source": [
    "# Example 4\n",
    "x=tuple(i for i in \"Hellow\") \n",
    "x"
   ]
  },
  {
   "cell_type": "markdown",
   "metadata": {
    "hidden": true
   },
   "source": [
    "## <font color=blue>Dictionary Comprehension </font>"
   ]
  },
  {
   "cell_type": "markdown",
   "metadata": {
    "hidden": true
   },
   "source": [
    "### <font color=green>List to Dictionary Comprehension </font>"
   ]
  },
  {
   "cell_type": "code",
   "execution_count": null,
   "metadata": {
    "hidden": true
   },
   "outputs": [],
   "source": [
    "# Example 1: To find frequency of the “letters” in a sentence\n",
    "\n",
    "sentence=\"my my name is is is Faaiz\"\n",
    "letters_fre={letter:sentence.count(letter) for letter in sentence}\n",
    "letters_fre"
   ]
  },
  {
   "cell_type": "code",
   "execution_count": null,
   "metadata": {
    "hidden": true
   },
   "outputs": [],
   "source": [
    "# Sorting letters_fre: sorting data in dictionery based on a column\n",
    "dict(sorted(letters_fre.items(), key=lambda item: item[1]))"
   ]
  },
  {
   "cell_type": "code",
   "execution_count": null,
   "metadata": {
    "hidden": true
   },
   "outputs": [],
   "source": [
    "#dict(sorted(dict(sorted(letters_fre.items(), key=lambda item: item[1])).items(), key=lambda item: item[1]))"
   ]
  },
  {
   "cell_type": "code",
   "execution_count": null,
   "metadata": {
    "cell_style": "center",
    "hidden": true
   },
   "outputs": [],
   "source": [
    "# Example 2: To find frequency of “words” in a sentence\n",
    "words={word:sentence.count(word) for word in sentence.split()}\n",
    "words"
   ]
  },
  {
   "cell_type": "code",
   "execution_count": null,
   "metadata": {
    "cell_style": "center",
    "hidden": true
   },
   "outputs": [],
   "source": [
    "sentence.split()"
   ]
  },
  {
   "cell_type": "code",
   "execution_count": null,
   "metadata": {
    "cell_style": "center",
    "hidden": true
   },
   "outputs": [],
   "source": [
    "# sorting based on column 1\n",
    "dict(sorted(words.items(), key=lambda item: item[1]))"
   ]
  },
  {
   "cell_type": "code",
   "execution_count": null,
   "metadata": {
    "cell_style": "split",
    "hidden": true
   },
   "outputs": [],
   "source": [
    "words.items()"
   ]
  },
  {
   "cell_type": "code",
   "execution_count": null,
   "metadata": {
    "hidden": true
   },
   "outputs": [],
   "source": [
    "# or \n",
    "{k:v for k,v in sorted(words.items(), key=lambda item: item[1])} # key is the sorting base"
   ]
  },
  {
   "cell_type": "code",
   "execution_count": null,
   "metadata": {
    "hidden": true
   },
   "outputs": [],
   "source": [
    "# How does the sorting method work?\n",
    "# sorting data in dictionery based on a column \n",
    "people=[{\"name\":\"Jan\", \"age\":39},\n",
    "        {\"name\":\"Fan\", \"age\":25},\n",
    "        {\"name\":\"Dan\", \"age\":34},\n",
    "        {\"name\":\"Kan\", \"age\":27}]      \n",
    "\n",
    "sorted(people, key=lambda x: x[\"age\"])"
   ]
  },
  {
   "cell_type": "markdown",
   "metadata": {
    "hidden": true
   },
   "source": [
    "### <font color=green>Dictionary to List Comprehension </font>"
   ]
  },
  {
   "cell_type": "code",
   "execution_count": null,
   "metadata": {
    "hidden": true
   },
   "outputs": [],
   "source": [
    "#Example 1: make a list of names from a dictionary \n",
    "people=[{\"name\":\"Jan\", \"age\":39},\n",
    "        {\"name\":\"Fan\", \"age\":25},\n",
    "        {\"name\":\"Dan\", \"age\":34},\n",
    "        {\"name\":\"Kan\", \"age\":27}]\n",
    "\n",
    "names=[person[\"name\"] for person in people]\n",
    "names"
   ]
  },
  {
   "cell_type": "code",
   "execution_count": null,
   "metadata": {
    "hidden": true
   },
   "outputs": [],
   "source": [
    "#Example 2: make a list of names from a dictionary with age > 27\n",
    "names=[person[\"name\"] for person in people if person[\"age\"]>=30]\n",
    "names"
   ]
  },
  {
   "cell_type": "markdown",
   "metadata": {
    "heading_collapsed": true
   },
   "source": [
    "# <font color=red>Functions: Reusable block of codes(coverd) </font>"
   ]
  },
  {
   "cell_type": "markdown",
   "metadata": {
    "hidden": true
   },
   "source": [
    "Functions are python objects that facilitates re-usability of a program/code. They allow you to write smarter, neater codes that will increase your code efficiency. \n",
    "\n",
    "DRY: Do not rpeat yourself....\n",
    "A function run when you call it....\n",
    "\n",
    "<code>\n",
    "The general format of a function is:\n",
    "    \n",
    "    def function_name(inputs):\n",
    "        \"\"\"\n",
    "        docstrings\n",
    "        \"\"\"\n",
    "        instructions to execute\n",
    "        return output\n",
    "</code>"
   ]
  },
  {
   "cell_type": "markdown",
   "metadata": {
    "hidden": true
   },
   "source": [
    " ##  <font color=blue>No input</font>"
   ]
  },
  {
   "cell_type": "code",
   "execution_count": 1,
   "metadata": {
    "hidden": true
   },
   "outputs": [],
   "source": [
    "# Example 1\n",
    "def hello_function():\n",
    "    print (\"Helloe everyone\")"
   ]
  },
  {
   "cell_type": "code",
   "execution_count": 2,
   "metadata": {
    "hidden": true
   },
   "outputs": [
    {
     "name": "stdout",
     "output_type": "stream",
     "text": [
      "Helloe everyone\n"
     ]
    }
   ],
   "source": [
    "hello_function()"
   ]
  },
  {
   "cell_type": "markdown",
   "metadata": {
    "hidden": true
   },
   "source": [
    " ##  <font color=blue>One input</font>"
   ]
  },
  {
   "cell_type": "code",
   "execution_count": null,
   "metadata": {
    "hidden": true
   },
   "outputs": [],
   "source": [
    "# Example 1:\n",
    "def equ_function(x):\n",
    "    y=x+1\n",
    "    return y"
   ]
  },
  {
   "cell_type": "code",
   "execution_count": null,
   "metadata": {
    "hidden": true
   },
   "outputs": [],
   "source": [
    "equ_function(1)"
   ]
  },
  {
   "cell_type": "code",
   "execution_count": null,
   "metadata": {
    "hidden": true
   },
   "outputs": [],
   "source": [
    "# Example 2:\n",
    "a, b, c = 'Python', \"Matlab\", \"MathCad\"\n",
    "\n",
    "def sw_function(x):\n",
    "    print (x, \"is the best codding language\")"
   ]
  },
  {
   "cell_type": "code",
   "execution_count": null,
   "metadata": {
    "hidden": true
   },
   "outputs": [],
   "source": [
    "sw_function(a)"
   ]
  },
  {
   "cell_type": "markdown",
   "metadata": {
    "hidden": true
   },
   "source": [
    " ##  <font color=blue>Many inputs</font>"
   ]
  },
  {
   "cell_type": "code",
   "execution_count": null,
   "metadata": {
    "hidden": true
   },
   "outputs": [],
   "source": [
    "# Example 1:\n",
    "def add_function(x1,x2):\n",
    "    y=x1+x2\n",
    "    return y"
   ]
  },
  {
   "cell_type": "code",
   "execution_count": null,
   "metadata": {
    "hidden": true
   },
   "outputs": [],
   "source": [
    "add_function(50,40)"
   ]
  },
  {
   "cell_type": "code",
   "execution_count": null,
   "metadata": {
    "hidden": true
   },
   "outputs": [],
   "source": [
    "# Example 2:\n",
    "def add2_function(x1,x2):\n",
    "    y=int(x1)+int(x2)\n",
    "    return y"
   ]
  },
  {
   "cell_type": "code",
   "execution_count": null,
   "metadata": {
    "hidden": true
   },
   "outputs": [],
   "source": [
    "add2_function(\"50\",40)"
   ]
  },
  {
   "cell_type": "code",
   "execution_count": null,
   "metadata": {
    "hidden": true
   },
   "outputs": [],
   "source": [
    "# Example 3:\n",
    "def add3_function(x1,x2):\n",
    "    if type(x1) != int or type(x2) != int:\n",
    "        print(\"Error: only integer allowed\")\n",
    "    else: \n",
    "        y=x1+x2\n",
    "        print (y)    "
   ]
  },
  {
   "cell_type": "code",
   "execution_count": null,
   "metadata": {
    "hidden": true
   },
   "outputs": [],
   "source": [
    "add3_function(\"50\",40)"
   ]
  },
  {
   "cell_type": "code",
   "execution_count": null,
   "metadata": {
    "hidden": true
   },
   "outputs": [],
   "source": [
    "add3_function(50,40)"
   ]
  },
  {
   "cell_type": "code",
   "execution_count": null,
   "metadata": {
    "hidden": true
   },
   "outputs": [],
   "source": [
    "# Example 4:\n",
    "def full_name(first, middle, last):\n",
    "    print (f\"{first.strip().capitalize()} {middle.upper():.1s} {last.capitalize()}\")"
   ]
  },
  {
   "cell_type": "code",
   "execution_count": null,
   "metadata": {
    "hidden": true
   },
   "outputs": [],
   "source": [
    "full_name(\"  faaiz  \", 'hadi', 'alshajalee')"
   ]
  },
  {
   "cell_type": "markdown",
   "metadata": {
    "hidden": true
   },
   "source": [
    " ##  <font color=blue>Unkown inputs: Packing, Unpacking</font>"
   ]
  },
  {
   "cell_type": "markdown",
   "metadata": {
    "hidden": true
   },
   "source": [
    "###  <font color=green>Tuple inputs </font>"
   ]
  },
  {
   "cell_type": "code",
   "execution_count": null,
   "metadata": {
    "hidden": true
   },
   "outputs": [],
   "source": [
    "# Example 1: \n",
    "def say_Hi1(a, b):\n",
    "    people=[a, b]\n",
    "    for name in people:\n",
    "        print(f\"Hi {name}\")"
   ]
  },
  {
   "cell_type": "code",
   "execution_count": null,
   "metadata": {
    "hidden": true
   },
   "outputs": [],
   "source": [
    "say_Hi1('Jhon', \"Sam\") "
   ]
  },
  {
   "cell_type": "code",
   "execution_count": null,
   "metadata": {
    "hidden": true
   },
   "outputs": [],
   "source": [
    "say_Hi1('Jhon', \"Sam\", \"kaf\") # 3 names cause error"
   ]
  },
  {
   "cell_type": "code",
   "execution_count": null,
   "metadata": {
    "hidden": true
   },
   "outputs": [],
   "source": [
    "# Example 2: \n",
    "def say_Hi2(*people):\n",
    "    for name in people:\n",
    "        print(f\"Hi {name}\")"
   ]
  },
  {
   "cell_type": "code",
   "execution_count": null,
   "metadata": {
    "hidden": true
   },
   "outputs": [],
   "source": [
    "say_Hi2('Jhon', \"Sam\", \"kaf\")"
   ]
  },
  {
   "cell_type": "code",
   "execution_count": null,
   "metadata": {
    "hidden": true
   },
   "outputs": [],
   "source": [
    "# Example 3: \n",
    "def student(uni, *people):\n",
    "    for name in people:\n",
    "        print(f\"{name} studies at {uni}\")"
   ]
  },
  {
   "cell_type": "code",
   "execution_count": null,
   "metadata": {
    "hidden": true
   },
   "outputs": [],
   "source": [
    "student('Curtin University','Jhon', \"Sam\", \"kaf\", \"Jaf\", \"Naf\")"
   ]
  },
  {
   "cell_type": "code",
   "execution_count": null,
   "metadata": {
    "hidden": true
   },
   "outputs": [],
   "source": [
    "# Example 4:\n",
    "def show_skills(name, *skills):\n",
    "    \n",
    "    print (f\"{name} \\n - skills without progress:\")    \n",
    "    for skill in skills:\n",
    "        print (f\"  -- {skill}\")"
   ]
  },
  {
   "cell_type": "code",
   "execution_count": null,
   "metadata": {
    "hidden": true
   },
   "outputs": [],
   "source": [
    "show_skills(\"Sam\", \"Python\", \"Matlab\", \"VB\")"
   ]
  },
  {
   "cell_type": "code",
   "execution_count": null,
   "metadata": {
    "hidden": true
   },
   "outputs": [],
   "source": [
    "show_skills(\"Sam\", \"Python\", \"Matlab\", \"VB\", \"Mathcad\")"
   ]
  },
  {
   "cell_type": "markdown",
   "metadata": {
    "hidden": true
   },
   "source": [
    " ###  <font color=green>Dictionery inputs </font>"
   ]
  },
  {
   "cell_type": "code",
   "execution_count": null,
   "metadata": {
    "hidden": true
   },
   "outputs": [],
   "source": [
    "# Example 1:\n",
    "def people_info(**info):  \n",
    "    for name, age in info.items():\n",
    "        print (f\"{name} is {age} year old\")"
   ]
  },
  {
   "cell_type": "code",
   "execution_count": null,
   "metadata": {
    "hidden": true
   },
   "outputs": [],
   "source": [
    "# Method 1:\n",
    "people_info(Sam= 28, Kaf= 25)"
   ]
  },
  {
   "cell_type": "code",
   "execution_count": null,
   "metadata": {
    "hidden": true
   },
   "outputs": [],
   "source": [
    "# Method 2:\n",
    "my_info={\"Sam\": 28, \"Kaf\": 25}\n",
    "people_info(**my_info)"
   ]
  },
  {
   "cell_type": "markdown",
   "metadata": {
    "hidden": true
   },
   "source": [
    "  ###  <font color=green> Tuple & Dictionery inputs </font>"
   ]
  },
  {
   "cell_type": "code",
   "execution_count": null,
   "metadata": {
    "hidden": true
   },
   "outputs": [],
   "source": [
    "# Example 1:\n",
    "def show_skills2(name, *skills, ** skills_with_progress):\n",
    "    \n",
    "    print (f\"{name} \\n  1- Skills without progress:\")    \n",
    "    for skill in skills:\n",
    "        print (f\"  --- {skill}\")\n",
    "    \n",
    "    print (f\" \\n  2- Skills with progress:\")\n",
    "    for skill_key, skill_value in skills_with_progress.items():\n",
    "        print (f\"   --- {skill_key} : {skill_value}\")  "
   ]
  },
  {
   "cell_type": "code",
   "execution_count": null,
   "metadata": {
    "hidden": true
   },
   "outputs": [],
   "source": [
    "show_skills2(\"Sam\", \"Python\", \"Matlab\", \"VB\", MathCad=\"60\")"
   ]
  },
  {
   "cell_type": "code",
   "execution_count": null,
   "metadata": {
    "hidden": true
   },
   "outputs": [],
   "source": [
    "show_skills2(\"Sam\", MathCad=\"60\")"
   ]
  },
  {
   "cell_type": "code",
   "execution_count": null,
   "metadata": {
    "hidden": true
   },
   "outputs": [],
   "source": [
    "show_skills2(\"Sam\", \"Python\", \"Matlab\")"
   ]
  },
  {
   "cell_type": "code",
   "execution_count": null,
   "metadata": {
    "hidden": true
   },
   "outputs": [],
   "source": [
    "myTuple=(\"Python\", \"Matlab\", \"VB\")\n",
    "show_skills2(\"Sam\",*myTuple, MathCad=\"60\")"
   ]
  },
  {
   "cell_type": "code",
   "execution_count": null,
   "metadata": {
    "hidden": true
   },
   "outputs": [],
   "source": [
    "myTuple=(\"Python\", \"Matlab\", \"VB\")\n",
    "my_Dict={\"MathCad\": 28, \"SQL\": 25}\n"
   ]
  },
  {
   "cell_type": "code",
   "execution_count": null,
   "metadata": {
    "hidden": true
   },
   "outputs": [],
   "source": [
    "show_skills2(\"Sam\",*myTuple, **my_Dict)"
   ]
  },
  {
   "cell_type": "markdown",
   "metadata": {
    "hidden": true
   },
   "source": [
    " ##  <font color=blue>Default inputs:</font>"
   ]
  },
  {
   "cell_type": "code",
   "execution_count": null,
   "metadata": {
    "hidden": true
   },
   "outputs": [],
   "source": [
    "# Example 1:\n",
    "def info(name, age, country):\n",
    "    print (f\"{name} is {age} year old from {country}\")"
   ]
  },
  {
   "cell_type": "code",
   "execution_count": null,
   "metadata": {
    "hidden": true
   },
   "outputs": [],
   "source": [
    "info(\"Sam\", 28, \"Australia\")"
   ]
  },
  {
   "cell_type": "code",
   "execution_count": null,
   "metadata": {
    "hidden": true
   },
   "outputs": [],
   "source": [
    "# What if the country is unkown, try below \n",
    "info(\"Sam\", 28)  # This will result in error"
   ]
  },
  {
   "cell_type": "code",
   "execution_count": null,
   "metadata": {
    "hidden": true
   },
   "outputs": [],
   "source": [
    "# Example 2:\n",
    "def info(name, age, country=\"Unknown\"):  # Default input should be the last\n",
    "    print (f\"{name} is {age} year old from {country}\")\n",
    "    "
   ]
  },
  {
   "cell_type": "code",
   "execution_count": null,
   "metadata": {
    "hidden": true
   },
   "outputs": [],
   "source": [
    "info(\"Sam\", 28)"
   ]
  },
  {
   "cell_type": "code",
   "execution_count": null,
   "metadata": {
    "hidden": true
   },
   "outputs": [],
   "source": [
    "# Example 3:\n",
    "def info(name, age=\"Unknown\", country=\"Australia\"):  # Default input2 should be the last\n",
    "    print (f\"{name} is {age} year old from {country}\")"
   ]
  },
  {
   "cell_type": "code",
   "execution_count": null,
   "metadata": {
    "hidden": true
   },
   "outputs": [],
   "source": [
    "info(\"Sam\")"
   ]
  },
  {
   "cell_type": "markdown",
   "metadata": {
    "hidden": true
   },
   "source": [
    " ##  <font color=blue>Many outputs </font>"
   ]
  },
  {
   "cell_type": "code",
   "execution_count": null,
   "metadata": {
    "hidden": true
   },
   "outputs": [],
   "source": [
    "# Example 1: \n",
    "def many_outputs(a, b):\n",
    "    x=a**2\n",
    "    y=b**2\n",
    "    return x, y"
   ]
  },
  {
   "cell_type": "code",
   "execution_count": null,
   "metadata": {
    "hidden": true
   },
   "outputs": [],
   "source": [
    "many_outputs(2, 5)"
   ]
  },
  {
   "cell_type": "code",
   "execution_count": null,
   "metadata": {
    "hidden": true
   },
   "outputs": [],
   "source": [
    "x,y=many_outputs(2, 5)\n",
    "print (\"x=\", x)\n",
    "print (\"y=\", y)"
   ]
  },
  {
   "cell_type": "markdown",
   "metadata": {
    "hidden": true
   },
   "source": [
    " ##  <font color=blue>Variable scope </font>\n",
    " - Global variables\n",
    " - Function variables"
   ]
  },
  {
   "cell_type": "code",
   "execution_count": null,
   "metadata": {
    "hidden": true
   },
   "outputs": [],
   "source": [
    "n= 1 # Global variable\n",
    "\n",
    "def var_scope1():\n",
    "    print (f\" Print the global variable from the function scope: {n}\")"
   ]
  },
  {
   "cell_type": "code",
   "execution_count": null,
   "metadata": {
    "hidden": true
   },
   "outputs": [],
   "source": [
    "print (f\" Print the global variable from the global scope: {n}\")"
   ]
  },
  {
   "cell_type": "code",
   "execution_count": null,
   "metadata": {
    "hidden": true
   },
   "outputs": [],
   "source": [
    "var_scope1()"
   ]
  },
  {
   "cell_type": "code",
   "execution_count": null,
   "metadata": {
    "hidden": true
   },
   "outputs": [],
   "source": [
    "m= 1 # Global variable. Try to disable it, this will cause error\n",
    "\n",
    "def var_scope2():\n",
    "    m=999  # Function scope\n",
    "    print (f\" Print the variable from the function scope {m} : What happens in Vegas stays in Vegas\")"
   ]
  },
  {
   "cell_type": "code",
   "execution_count": null,
   "metadata": {
    "hidden": true
   },
   "outputs": [],
   "source": [
    "print (f\" Print the variable from the global scope {m}\")"
   ]
  },
  {
   "cell_type": "code",
   "execution_count": null,
   "metadata": {
    "hidden": true
   },
   "outputs": [],
   "source": [
    "var_scope2()"
   ]
  },
  {
   "cell_type": "code",
   "execution_count": null,
   "metadata": {
    "hidden": true
   },
   "outputs": [],
   "source": [
    "# Convert fucntion scope to Global scope\n",
    "\n",
    "k= 1  #Global_1\n",
    "\n",
    "def var_scope3():\n",
    "    global k #Global_2\n",
    "    k=999  # Function scope\n",
    "    print (f\" Print the variable from the function scope: {k}. What happens in Vegas stays in Vegas\")"
   ]
  },
  {
   "cell_type": "code",
   "execution_count": null,
   "metadata": {
    "hidden": true
   },
   "outputs": [],
   "source": [
    "print (f\" Print the variable from the global_1: {k}\")"
   ]
  },
  {
   "cell_type": "code",
   "execution_count": null,
   "metadata": {
    "hidden": true
   },
   "outputs": [],
   "source": [
    "var_scope3()"
   ]
  },
  {
   "cell_type": "code",
   "execution_count": null,
   "metadata": {
    "hidden": true
   },
   "outputs": [],
   "source": [
    "print (f\" Print the variable from the global_2: {k}. What happens in Vegas will not stay in Vegas if you tell the glob\")"
   ]
  },
  {
   "cell_type": "markdown",
   "metadata": {
    "hidden": true
   },
   "source": [
    " ##  <font color=blue>Lambda function </font>\n",
    " \n",
    "     1 A function without name\n",
    "     2 Can call it inline without defining it\n",
    "     3 Can return data from another fucntion\n",
    "     4 Used for simple fucntion\n",
    "     5 One single expression"
   ]
  },
  {
   "cell_type": "markdown",
   "metadata": {
    "hidden": true
   },
   "source": [
    "###  <font color=green>One input </font>"
   ]
  },
  {
   "cell_type": "code",
   "execution_count": null,
   "metadata": {
    "hidden": true
   },
   "outputs": [],
   "source": [
    "# The normal function\n",
    "def seq_num_1(num): return num*num"
   ]
  },
  {
   "cell_type": "code",
   "execution_count": null,
   "metadata": {
    "hidden": true
   },
   "outputs": [],
   "source": [
    "seq_num_1(3)"
   ]
  },
  {
   "cell_type": "code",
   "execution_count": null,
   "metadata": {
    "hidden": true
   },
   "outputs": [],
   "source": [
    "# lambda fucntion\n",
    "#              input: output\n",
    "seq_num_2=lambda num: num*num"
   ]
  },
  {
   "cell_type": "code",
   "execution_count": null,
   "metadata": {
    "hidden": true
   },
   "outputs": [],
   "source": [
    "seq_num_2(3)"
   ]
  },
  {
   "cell_type": "markdown",
   "metadata": {
    "hidden": true
   },
   "source": [
    "###  <font color=green>Multi inputs </font>"
   ]
  },
  {
   "cell_type": "code",
   "execution_count": null,
   "metadata": {
    "hidden": true
   },
   "outputs": [],
   "source": [
    "Hi=lambda name, age: f\"{name} age is {age} years\"\n",
    "Hi(\"Sam\", 20)"
   ]
  },
  {
   "cell_type": "markdown",
   "metadata": {
    "hidden": true
   },
   "source": [
    "###  <font color=green>Example: Lambda & Filter </font>"
   ]
  },
  {
   "cell_type": "code",
   "execution_count": null,
   "metadata": {
    "hidden": true
   },
   "outputs": [],
   "source": [
    "# Find the even numbers in the below list\n",
    "Data_list=[1,2,3,4,5,6,7,8,9,10]  \n",
    "even_num= list(filter(lambda x: x%2==0, Data_list))\n",
    "even_num"
   ]
  },
  {
   "cell_type": "markdown",
   "metadata": {
    "hidden": true
   },
   "source": [
    "###  <font color=green> Example: Lambda & Sorted  </font>"
   ]
  },
  {
   "cell_type": "code",
   "execution_count": null,
   "metadata": {
    "hidden": true
   },
   "outputs": [],
   "source": [
    "# Example 2: sorting data in dictionery based on a column \n",
    "people=[{\"name\":\"Jan\", \"age\":39},\n",
    "        {\"name\":\"Fan\", \"age\":25},\n",
    "        {\"name\":\"Dan\", \"age\":34},\n",
    "        {\"name\":\"Kan\", \"age\":27}]      \n",
    "\n",
    "sorted(people, key=lambda x: x[\"age\"])"
   ]
  },
  {
   "attachments": {
    "image.png": {
     "image/png": "[encoded data removed]"
    }
   },
   "cell_type": "markdown",
   "metadata": {
    "hidden": true
   },
   "source": [
    " ## <font color=blue>Function recursion</font>\n",
    " Reusing a function inside the fucction itself\n",
    " ![image.png](attachment:image.png)"
   ]
  },
  {
   "cell_type": "code",
   "execution_count": null,
   "metadata": {
    "hidden": true,
    "hide_input": false
   },
   "outputs": [],
   "source": [
    "def factorial(x):\n",
    "    \"\"\"This is a recursive function\n",
    "    to find the factorial of an integer\"\"\"\n",
    "\n",
    "    if x == 1:\n",
    "        return 1\n",
    "    else:\n",
    "        return (x * factorial(x-1))  "
   ]
  },
  {
   "cell_type": "code",
   "execution_count": null,
   "metadata": {
    "hidden": true
   },
   "outputs": [],
   "source": [
    "num = 4 # 4!=4*3*2*1 \n",
    "print(\"The factorial of\", num, \"is\", factorial(num))\n",
    "\n",
    "# step 1: = 4*f(3),     where f(3)=3*f(2):\n",
    "# step 2: = 4*3*f(2),   where f(2)=2*f(1):\n",
    "# step 3: = 4*3*2*f(1),   where f(1)=1\n",
    "# step 3: = 4*3*2*1 "
   ]
  },
  {
   "cell_type": "code",
   "execution_count": null,
   "metadata": {
    "hidden": true
   },
   "outputs": [],
   "source": [
    "# H.W.: \n",
    "# Given: x=\"wwoorrdd\"\n",
    "# Requred: Remoev repeated letters from x"
   ]
  },
  {
   "cell_type": "code",
   "execution_count": null,
   "metadata": {
    "hidden": true,
    "hide_input": true
   },
   "outputs": [],
   "source": [
    "# H.W.: Solution:\n",
    "\n",
    "def clear_word(word):\n",
    "    \n",
    "    if len(word)==1:\n",
    "        return word\n",
    "    \n",
    "    if word[0]==word[1]:\n",
    "        return clear_word(word[1:])\n",
    "    return word[0]+clear_word(word[1:])\n",
    "\n",
    "x=\"wwoorrdd\"\n",
    "clear_word(x)\n",
    "\n",
    "\n",
    "# step 1: = woorrdd\n",
    "# step 2: = worrdd\n",
    "# step 3: = wordd\n",
    "# step 3: = word"
   ]
  },
  {
   "cell_type": "markdown",
   "metadata": {
    "heading_collapsed": true
   },
   "source": [
    "# <font color=red>Extra libraries (Preparing stage)</font>"
   ]
  },
  {
   "cell_type": "markdown",
   "metadata": {
    "hidden": true
   },
   "source": [
    " ## <font color=blue>Itertools</font>"
   ]
  },
  {
   "cell_type": "code",
   "execution_count": null,
   "metadata": {
    "hidden": true
   },
   "outputs": [],
   "source": [
    "import itertools"
   ]
  },
  {
   "cell_type": "code",
   "execution_count": null,
   "metadata": {
    "hidden": true
   },
   "outputs": [],
   "source": [
    "lst=[1,2,3,4]\n",
    "sum_lst=itertools.accumulate(lst)\n",
    "list(sum_lst)"
   ]
  },
  {
   "cell_type": "code",
   "execution_count": null,
   "metadata": {
    "hidden": true
   },
   "outputs": [],
   "source": []
  }
 ],
 "metadata": {
  "gist": {
   "data": {
    "description": "OneDrive - Curtin University of Technology Australia/0 Python/1 Lessons/2 Programming in Python.ipynb",
    "public": true
   },
   "id": ""
  },
  "hide_input": false,
  "kernelspec": {
   "display_name": "Python 3",
   "language": "python",
   "name": "python3"
  },
  "language_info": {
   "codemirror_mode": {
    "name": "ipython",
    "version": 3
   },
   "file_extension": ".py",
   "mimetype": "text/x-python",
   "name": "python",
   "nbconvert_exporter": "python",
   "pygments_lexer": "ipython3",
   "version": "3.8.5"
  },
  "toc": {
   "base_numbering": 1,
   "nav_menu": {},
   "number_sections": true,
   "sideBar": true,
   "skip_h1_title": false,
   "title_cell": "Table of Contents",
   "title_sidebar": "Contents",
   "toc_cell": false,
   "toc_position": {
    "height": "calc(100% - 180px)",
    "left": "10px",
    "top": "150px",
    "width": "198px"
   },
   "toc_section_display": true,
   "toc_window_display": false
  }
 },
 "nbformat": 4,
 "nbformat_minor": 4
}
